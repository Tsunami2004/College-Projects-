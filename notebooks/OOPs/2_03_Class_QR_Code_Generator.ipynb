{
 "cells": [
  {
   "cell_type": "markdown",
   "id": "78da7372",
   "metadata": {},
   "source": [
    "<table align=\"left\" width=100%>\n",
    "    <tr>\n",
    "        <td width=\"12%\">\n",
    "            <img src=\"../images/RA_Logo.png\">\n",
    "        </td>\n",
    "        <td>\n",
    "            <div align=\"center\">\n",
    "                <font color=\"#21618C\" size=8px>\n",
    "                  <b> QR Code Generation - 3 </b>\n",
    "                </font>\n",
    "            </div>\n",
    "        </td>\n",
    "    </tr>\n",
    "</table>"
   ]
  },
  {
   "cell_type": "markdown",
   "id": "f2ff3dab",
   "metadata": {},
   "source": [
    "<table align=\"left\">\n",
    "  <td>\n",
    "    <a href=\"https://colab.research.google.com/github/vidyadharbendre/learn_advanced_python_using_examples/blob/main/notebooks/OOPs/2_03_Class_QR_Code_Generator.ipynb\" target=\"_parent\"><img src=\"https://colab.research.google.com/assets/colab-badge.svg\" alt=\"Open In Colab\"/></a>\n",
    "  </td>\n",
    "  <td>\n",
    "    <a target=\"_blank\" href=\"https://kaggle.com/kernels/welcome?src=https://github.com/vidyadharbendre/learn_advanced_python_using_examples/blob/main/notebooks/OOPs/2_03_Class_QR_Code_Generator.ipynb\"><img src=\"https://kaggle.com/static/images/open-in-kaggle.svg\" /></a>\n",
    "  </td>\n",
    "</table>"
   ]
  },
  {
   "cell_type": "code",
   "execution_count": 3,
   "id": "599f41e4",
   "metadata": {},
   "outputs": [],
   "source": [
    "import qrcode"
   ]
  },
  {
   "cell_type": "code",
   "execution_count": 4,
   "id": "5de04075",
   "metadata": {},
   "outputs": [],
   "source": [
    "class QRCodeGenerator:\n",
    "    def __init__(self, data, filename=\"qrcode.png\"):\n",
    "        self.data = data\n",
    "        self.filename = filename\n",
    "\n",
    "    def generate_qr_code(self):\n",
    "        qr = qrcode.QRCode(\n",
    "            version=1,\n",
    "            error_correction=qrcode.constants.ERROR_CORRECT_L,\n",
    "            box_size=10,\n",
    "            border=4,\n",
    "        )\n",
    "        qr.add_data(self.data)\n",
    "        qr.make(fit=True)\n",
    "        img = qr.make_image(fill='black', back_color='white')\n",
    "        img.save(self.filename)\n",
    "        print(f\"QR Code saved as {self.filename}\")"
   ]
  },
  {
   "cell_type": "code",
   "execution_count": 5,
   "id": "b8aacbd9",
   "metadata": {},
   "outputs": [
    {
     "name": "stdout",
     "output_type": "stream",
     "text": [
      "QR Code saved as example_qrcode.png\n"
     ]
    }
   ],
   "source": [
    "# Example usage\n",
    "generator = QRCodeGenerator(\"https://www.example.com\", \"example_qrcode.png\")\n",
    "generator.generate_qr_code()"
   ]
  },
  {
   "cell_type": "code",
   "execution_count": null,
   "id": "344fa328",
   "metadata": {},
   "outputs": [],
   "source": []
  }
 ],
 "metadata": {
  "kernelspec": {
   "display_name": "Python 3 (ipykernel)",
   "language": "python",
   "name": "python3"
  },
  "language_info": {
   "codemirror_mode": {
    "name": "ipython",
    "version": 3
   },
   "file_extension": ".py",
   "mimetype": "text/x-python",
   "name": "python",
   "nbconvert_exporter": "python",
   "pygments_lexer": "ipython3",
   "version": "3.9.16"
  }
 },
 "nbformat": 4,
 "nbformat_minor": 5
}
