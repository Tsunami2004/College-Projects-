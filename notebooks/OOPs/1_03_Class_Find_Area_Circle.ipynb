{
 "cells": [
  {
   "cell_type": "markdown",
   "id": "32b6da9d",
   "metadata": {},
   "source": [
    "<table align=\"left\" width=100%>\n",
    "    <tr>\n",
    "        <td width=\"12%\">\n",
    "            <img src=\"../images/RA_Logo.png\">\n",
    "        </td>\n",
    "        <td>\n",
    "            <div align=\"center\">\n",
    "                <font color=\"#21618C\" size=8px>\n",
    "                  <b> Area Of Circle - 3 </b>\n",
    "                </font>\n",
    "            </div>\n",
    "        </td>\n",
    "    </tr>\n",
    "</table>"
   ]
  },
  {
   "cell_type": "markdown",
   "id": "4fefca0f",
   "metadata": {},
   "source": [
    "<table align=\"left\">\n",
    "  <td>\n",
    "    <a href=\"https://colab.research.google.com/github/vidyadharbendre/learn_advanced_python_using_examples/blob/main/notebooks/OOPs/1_03_Class_Find_Area_Circle.ipynb\" target=\"_parent\"><img src=\"https://colab.research.google.com/assets/colab-badge.svg\" alt=\"Open In Colab\"/></a>\n",
    "  </td>\n",
    "  <td>\n",
    "    <a target=\"_blank\" href=\"https://kaggle.com/kernels/welcome?src=https://github.com/vidyadharbendre/learn_advanced_python_using_examples/blob/main/notebooks/OOPs/1_03_Class_Find_Area_Circle.ipynb\"><img src=\"https://kaggle.com/static/images/open-in-kaggle.svg\" /></a>\n",
    "  </td>\n",
    "</table>"
   ]
  },
  {
   "cell_type": "code",
   "execution_count": 2,
   "id": "8ef4c44b",
   "metadata": {},
   "outputs": [],
   "source": [
    "# Calculate the area of a circle using a class"
   ]
  },
  {
   "cell_type": "code",
   "execution_count": 3,
   "id": "81b78573",
   "metadata": {},
   "outputs": [],
   "source": [
    "import math"
   ]
  },
  {
   "cell_type": "code",
   "execution_count": 4,
   "id": "3e8b1cc2",
   "metadata": {},
   "outputs": [],
   "source": [
    "class Circle:\n",
    "    def __init__(self, radius):\n",
    "        self.radius = radius\n",
    "    \n",
    "    def area(self):\n",
    "        return math.pi * self.radius * self.radius"
   ]
  },
  {
   "cell_type": "code",
   "execution_count": 5,
   "id": "cfcaed55",
   "metadata": {},
   "outputs": [
    {
     "name": "stdout",
     "output_type": "stream",
     "text": [
      "Enter the radius of the circle: 1000\n"
     ]
    }
   ],
   "source": [
    "# Input radius\n",
    "radius = float(input(\"Enter the radius of the circle: \"))"
   ]
  },
  {
   "cell_type": "code",
   "execution_count": 6,
   "id": "6ce973de",
   "metadata": {},
   "outputs": [],
   "source": [
    "# Create a Circle object\n",
    "circle = Circle(radius)"
   ]
  },
  {
   "cell_type": "code",
   "execution_count": 7,
   "id": "356730c7",
   "metadata": {},
   "outputs": [],
   "source": [
    "# Calculate area using class method\n",
    "area = circle.area()"
   ]
  },
  {
   "cell_type": "code",
   "execution_count": 8,
   "id": "058bf963",
   "metadata": {},
   "outputs": [
    {
     "name": "stdout",
     "output_type": "stream",
     "text": [
      "The area of the circle with radius 1000.0 is 3141592.65\n"
     ]
    }
   ],
   "source": [
    "# Display the result\n",
    "print(f\"The area of the circle with radius {radius} is {area:.2f}\")"
   ]
  },
  {
   "cell_type": "code",
   "execution_count": null,
   "id": "13a0ee9e",
   "metadata": {},
   "outputs": [],
   "source": []
  }
 ],
 "metadata": {
  "kernelspec": {
   "display_name": "Python 3 (ipykernel)",
   "language": "python",
   "name": "python3"
  },
  "language_info": {
   "codemirror_mode": {
    "name": "ipython",
    "version": 3
   },
   "file_extension": ".py",
   "mimetype": "text/x-python",
   "name": "python",
   "nbconvert_exporter": "python",
   "pygments_lexer": "ipython3",
   "version": "3.9.16"
  }
 },
 "nbformat": 4,
 "nbformat_minor": 5
}
