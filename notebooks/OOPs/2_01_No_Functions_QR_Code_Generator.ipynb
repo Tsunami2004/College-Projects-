{
 "cells": [
  {
   "cell_type": "markdown",
   "id": "5fba516e",
   "metadata": {},
   "source": [
    "<table align=\"left\" width=100%>\n",
    "    <tr>\n",
    "        <td width=\"12%\">\n",
    "            <img src=\"../images/RA_Logo.png\">\n",
    "        </td>\n",
    "        <td>\n",
    "            <div align=\"center\">\n",
    "                <font color=\"#21618C\" size=8px>\n",
    "                  <b> QR Code Generation - 1 </b>\n",
    "                </font>\n",
    "            </div>\n",
    "        </td>\n",
    "    </tr>\n",
    "</table>"
   ]
  },
  {
   "cell_type": "markdown",
   "id": "358844bd",
   "metadata": {},
   "source": [
    "<table align=\"left\">\n",
    "  <td>\n",
    "    <a href=\"https://colab.research.google.com/github/vidyadharbendre/learn_advanced_python_using_examples/blob/main/notebooks/OOPs/2_01_No_Functions_QR_Code_Generator.ipynb\" target=\"_parent\"><img src=\"https://colab.research.google.com/assets/colab-badge.svg\" alt=\"Open In Colab\"/></a>\n",
    "  </td>\n",
    "  <td>\n",
    "    <a target=\"_blank\" href=\"https://kaggle.com/kernels/welcome?src=https://github.com/vidyadharbendre/learn_advanced_python_using_examples/blob/main/notebooks/OOPs/2_01_No_Functions_QR_Code_Generator.ipynb\"><img src=\"https://kaggle.com/static/images/open-in-kaggle.svg\" /></a>\n",
    "  </td>\n",
    "</table>"
   ]
  },
  {
   "cell_type": "code",
   "execution_count": 3,
   "id": "182cbec2",
   "metadata": {},
   "outputs": [],
   "source": [
    "#!pip install 'qrcode[pil]'"
   ]
  },
  {
   "cell_type": "code",
   "execution_count": 12,
   "id": "0119c95f",
   "metadata": {},
   "outputs": [],
   "source": [
    "import qrcode"
   ]
  },
  {
   "cell_type": "code",
   "execution_count": 13,
   "id": "71980de6",
   "metadata": {},
   "outputs": [],
   "source": [
    "# Data to encode\n",
    "data = \"https://www.example.com\""
   ]
  },
  {
   "cell_type": "code",
   "execution_count": 14,
   "id": "e681d9ea",
   "metadata": {},
   "outputs": [],
   "source": [
    "# Create a QR Code instance\n",
    "qr = qrcode.QRCode(\n",
    "    version=1,\n",
    "    error_correction=qrcode.constants.ERROR_CORRECT_L,\n",
    "    box_size=10,\n",
    "    border=4,\n",
    ")"
   ]
  },
  {
   "cell_type": "code",
   "execution_count": 15,
   "id": "c9223c52",
   "metadata": {},
   "outputs": [],
   "source": [
    "# Add data to the QR Code instance\n",
    "qr.add_data(data)\n",
    "qr.make(fit=True)"
   ]
  },
  {
   "cell_type": "code",
   "execution_count": 16,
   "id": "9cb0ed59",
   "metadata": {},
   "outputs": [],
   "source": [
    "# Create an image from the QR Code instance\n",
    "img = qr.make_image(fill='black', back_color='white')"
   ]
  },
  {
   "cell_type": "code",
   "execution_count": 17,
   "id": "ce08b6de",
   "metadata": {},
   "outputs": [],
   "source": [
    "# Save the image\n",
    "img.save(\"example_qrcode.png\")"
   ]
  },
  {
   "cell_type": "code",
   "execution_count": 10,
   "id": "8f9f65a6",
   "metadata": {},
   "outputs": [
    {
     "name": "stdout",
     "output_type": "stream",
     "text": [
      "/Users/vidyadharbendre/workspace/advanced_python/learn_advanced_python_using_examples/notebooks/OOPs\r\n"
     ]
    }
   ],
   "source": [
    "!pwd"
   ]
  },
  {
   "cell_type": "code",
   "execution_count": null,
   "id": "0df0edf7",
   "metadata": {},
   "outputs": [],
   "source": []
  }
 ],
 "metadata": {
  "kernelspec": {
   "display_name": "Python 3 (ipykernel)",
   "language": "python",
   "name": "python3"
  },
  "language_info": {
   "codemirror_mode": {
    "name": "ipython",
    "version": 3
   },
   "file_extension": ".py",
   "mimetype": "text/x-python",
   "name": "python",
   "nbconvert_exporter": "python",
   "pygments_lexer": "ipython3",
   "version": "3.9.16"
  }
 },
 "nbformat": 4,
 "nbformat_minor": 5
}
