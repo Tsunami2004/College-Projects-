{
 "cells": [
  {
   "cell_type": "markdown",
   "id": "5f30613a",
   "metadata": {},
   "source": [
    "<table align=\"center\" width=100%>\n",
    "    <tr>\n",
    "        <td width=\"12%\">\n",
    "            <img src=\"../images/RA_Logo.png\">\n",
    "        </td>\n",
    "        <td>\n",
    "            <div align=\"center\">\n",
    "                <font color=\"#21618C\" size=8px>\n",
    "                    <b> \n",
    "                        Simple Interest\n",
    "                    </b>\n",
    "                </font>\n",
    "            </div>\n",
    "        </td>\n",
    "    </tr>\n",
    "</table>"
   ]
  },
  {
   "cell_type": "markdown",
   "id": "c390d02d",
   "metadata": {},
   "source": [
    "<table align=\"left\">\n",
    "  <td>\n",
    "    <a href=\"https://colab.research.google.com/github/vidyadharbendre/learn_advanced_python_using_examples/blob/main/notebooks/OOPs/simple_interest.ipynb\" target=\"_parent\"><img src=\"https://colab.research.google.com/assets/colab-badge.svg\" alt=\"Open In Colab\"/></a>\n",
    "  </td>\n",
    "  <td>\n",
    "    <a target=\"_blank\" href=\"https://kaggle.com/kernels/welcome?src=https://github.com/vidyadharbendre/learn_advanced_python_using_examples/blob/main/notebooks/OOPs/simple_interest.ipynb\"><img src=\"https://kaggle.com/static/images/open-in-kaggle.svg\" /></a>\n",
    "  </td>\n",
    "</table>"
   ]
  },
  {
   "cell_type": "code",
   "execution_count": 25,
   "id": "ada35398",
   "metadata": {},
   "outputs": [],
   "source": [
    "import numpy as np"
   ]
  },
  {
   "cell_type": "code",
   "execution_count": 22,
   "id": "41e86ee6",
   "metadata": {},
   "outputs": [
    {
     "name": "stdout",
     "output_type": "stream",
     "text": [
      "The simple interest is: 150.0\n"
     ]
    }
   ],
   "source": [
    "# Jupyter Notebook for Simple Interest Calculation\n",
    "\n",
    "# Example function to calculate simple interest\n",
    "def calculate_simple_interest(principle, rate, time):\n",
    "    return (principle * rate * time) / 100\n",
    "\n",
    "# Example usage\n",
    "principle = 1000  # Principal amount\n",
    "rate = 5  # Annual interest rate in percentage\n",
    "time = 3  # Time period in years\n",
    "\n",
    "interest = calculate_simple_interest(principle, rate, time)\n",
    "print(f\"The simple interest is: {interest}\")\n",
    "\n",
    "# Experiment with different values and test cases here\n"
   ]
  },
  {
   "cell_type": "code",
   "execution_count": 23,
   "id": "64291ee6",
   "metadata": {},
   "outputs": [
    {
     "name": "stdout",
     "output_type": "stream",
     "text": [
      "The given principle: 1000\n",
      "The given time: 4 years\n",
      "The given rate: 2%\n",
      "The simple interest is: 80.0\n"
     ]
    }
   ],
   "source": [
    "class SimpleInterest:\n",
    "    def __init__(self, principle, time, rate):\n",
    "        \"\"\"\n",
    "        Constructor method (__init__):\n",
    "        This method is called automatically when a new SimpleInterest object is created.\n",
    "        It initializes the attributes of the SimpleInterest object.\n",
    "        \n",
    "        Parameters:\n",
    "        - principle: The principle amount.\n",
    "        - time: The time period.\n",
    "        - rate: The interest rate.\n",
    "        \"\"\"\n",
    "        self.principle = principle\n",
    "        self.time = time\n",
    "        self.rate = rate\n",
    "\n",
    "    def set_principle(self, principle):\n",
    "        \"\"\"\n",
    "        Method to set the principle.\n",
    "        \n",
    "        Parameters:\n",
    "        - principle: The new value for the principle amount.\n",
    "        \"\"\"\n",
    "        self.principle = principle\n",
    "\n",
    "    def get_principle(self):\n",
    "        \"\"\"\n",
    "        Method to get the principle amount.\n",
    "        \n",
    "        Returns:\n",
    "        - The current principle amount.\n",
    "        \"\"\"\n",
    "        return self.principle\n",
    "\n",
    "    def set_time(self, time):\n",
    "        \"\"\"\n",
    "        Method to set the time period.\n",
    "        \n",
    "        Parameters:\n",
    "        - time: The new value for the time period.\n",
    "        \"\"\"\n",
    "        self.time = time\n",
    "\n",
    "    def get_time(self):\n",
    "        \"\"\"\n",
    "        Method to get the time period.\n",
    "        \n",
    "        Returns:\n",
    "        - The current time period.\n",
    "        \"\"\"\n",
    "        return self.time\n",
    "\n",
    "    def set_rate(self, rate):\n",
    "        \"\"\"\n",
    "        Method to set the interest rate.\n",
    "        \n",
    "        Parameters:\n",
    "        - rate: The new value for the interest rate.\n",
    "        \"\"\"\n",
    "        self.rate = rate\n",
    "\n",
    "    def get_rate(self):\n",
    "        \"\"\"\n",
    "        Method to get the interest rate.\n",
    "        \n",
    "        Returns:\n",
    "        - The current interest rate.\n",
    "        \"\"\"\n",
    "        return self.rate\n",
    "\n",
    "    def calculate_simple_interest(self):\n",
    "        \"\"\"\n",
    "        Method to calculate the simple interest.\n",
    "        \n",
    "        Returns:\n",
    "        - The calculated simple interest based on the principle, time, and rate.\n",
    "        \"\"\"\n",
    "        return (self.principle * self.rate * self.time) / 100\n",
    "\n",
    "    def display_simple_interest(self):\n",
    "        \"\"\"\n",
    "        Method to display the simple interest.\n",
    "        It prints the principle, time, rate, and calculated simple interest.\n",
    "        \"\"\"\n",
    "        principle = self.get_principle()\n",
    "        time = self.get_time()\n",
    "        rate = self.get_rate()\n",
    "        interest = self.calculate_simple_interest()\n",
    "        \n",
    "        print(f\"The given principle: {principle}\")\n",
    "        print(f\"The given time: {time} years\")\n",
    "        print(f\"The given rate: {rate}%\")\n",
    "        print(f\"The simple interest is: {interest}\")\n",
    "\n",
    "# Create an instance of the SimpleInterest class\n",
    "si = SimpleInterest(1000, 4, 2)\n",
    "\n",
    "# Display the simple interest\n",
    "si.display_simple_interest()"
   ]
  },
  {
   "cell_type": "code",
   "execution_count": 24,
   "id": "10365d9a",
   "metadata": {},
   "outputs": [],
   "source": [
    "def test_simpleinterest():\n",
    "    simint = SimpleInterest(1000, 2, 4)\n",
    "\n",
    "    # Test the initial principle\n",
    "    assert simint.get_principle == 1000, \"Initial principle should be 100\"\n",
    "\n",
    "    # Test the initial time\n",
    "    assert simint.get_time == 2, \"Initial time should be 2\"\n",
    "\n",
    "    # Test the initial rate\n",
    "    assert simint.get_rate == 4, \"Initial rate should be 4\"\n",
    "\n",
    "    # Test the initial simpleinterest\n",
    "    assert simint.calculate_simple_interest() == 80.0, \"Initial simple interest should be 12\""
   ]
  },
  {
   "cell_type": "code",
   "execution_count": null,
   "id": "0e7dccf0",
   "metadata": {},
   "outputs": [],
   "source": []
  }
 ],
 "metadata": {
  "kernelspec": {
   "display_name": "Python 3 (ipykernel)",
   "language": "python",
   "name": "python3"
  },
  "language_info": {
   "codemirror_mode": {
    "name": "ipython",
    "version": 3
   },
   "file_extension": ".py",
   "mimetype": "text/x-python",
   "name": "python",
   "nbconvert_exporter": "python",
   "pygments_lexer": "ipython3",
   "version": "3.9.16"
  }
 },
 "nbformat": 4,
 "nbformat_minor": 5
}
