{
 "cells": [
  {
   "cell_type": "markdown",
   "id": "a51af139",
   "metadata": {},
   "source": [
    "<table align=\"left\" width=100%>\n",
    "    <tr>\n",
    "        <td width=\"12%\">\n",
    "            <img src=\"../images/RA_Logo.png\">\n",
    "        </td>\n",
    "        <td>\n",
    "            <div align=\"center\">\n",
    "                <font color=\"#21618C\" size=8px>\n",
    "                  <b> Quadriatic Equation - 3 </b>\n",
    "                </font>\n",
    "            </div>\n",
    "        </td>\n",
    "    </tr>\n",
    "</table>"
   ]
  },
  {
   "cell_type": "markdown",
   "id": "9191137a",
   "metadata": {},
   "source": [
    "<table align=\"left\">\n",
    "  <td>\n",
    "    <a href=\"https://colab.research.google.com/github/vidyadharbendre/learn_advanced_python_using_examples/blob/main/notebooks/OOPs/3_03_Class_Find_Roots_Quadratic_Equation.ipynb\" target=\"_parent\"><img src=\"https://colab.research.google.com/assets/colab-badge.svg\" alt=\"Open In Colab\"/></a>\n",
    "  </td>\n",
    "  <td>\n",
    "    <a target=\"_blank\" href=\"https://kaggle.com/kernels/welcome?src=https://github.com/vidyadharbendre/learn_advanced_python_using_examples/blob/main/notebooks/OOPs/3_03_Class_Find_Roots_Quadratic_Equation.ipynb\"><img src=\"https://kaggle.com/static/images/open-in-kaggle.svg\" /></a>\n",
    "  </td>\n",
    "</table>"
   ]
  },
  {
   "cell_type": "markdown",
   "id": "3eb2230f",
   "metadata": {},
   "source": [
    "\"\"\"\n",
    "\n",
    "Find out the Positive root of the following equation in python:\n",
    "34*x^2 + 68*x - 510\n",
    "Recall:\n",
    "a*x^2 + b*x + c\n",
    "x1 = ( - b + sqrt ( b*b - 4*a*c ) ) / ( 2*a)\n",
    "\n",
    "\"\"\""
   ]
  },
  {
   "cell_type": "code",
   "execution_count": 1,
   "id": "85fc5b71",
   "metadata": {},
   "outputs": [],
   "source": [
    "import math\n",
    "\n",
    "class QuadraticEquation:\n",
    "    def __init__(self, a, b, c):\n",
    "        self.a = a\n",
    "        self.b = b\n",
    "        self.c = c\n",
    "    \n",
    "    def calculate_discriminant(self):\n",
    "        return self.b ** 2 - 4 * self.a * self.c\n",
    "    \n",
    "    def find_roots(self):\n",
    "        discriminant = self.calculate_discriminant()\n",
    "        \n",
    "        if discriminant >= 0:\n",
    "            root1 = (-self.b + math.sqrt(discriminant)) / (2 * self.a)\n",
    "            root2 = (-self.b - math.sqrt(discriminant)) / (2 * self.a)\n",
    "            return root1, root2\n",
    "        else:\n",
    "            return None, None\n",
    "    \n",
    "    def get_positive_root(self):\n",
    "        root1, root2 = self.find_roots()\n",
    "        if root1 is not None and root2 is not None:\n",
    "            if root1 > 0 and root2 > 0:\n",
    "                return min(root1, root2)\n",
    "            elif root1 > 0:\n",
    "                return root1\n",
    "            elif root2 > 0:\n",
    "                return root2\n",
    "            else:\n",
    "                return \"No positive root\"\n",
    "        else:\n",
    "            return \"No real roots\""
   ]
  },
  {
   "cell_type": "code",
   "execution_count": 2,
   "id": "00695e00",
   "metadata": {},
   "outputs": [
    {
     "name": "stdout",
     "output_type": "stream",
     "text": [
      "The positive root is: 3.0\n"
     ]
    }
   ],
   "source": [
    "# Coefficients\n",
    "a = 34\n",
    "b = 68\n",
    "c = -510\n",
    "\n",
    "# Create an instance of QuadraticEquation\n",
    "equation = QuadraticEquation(a, b, c)\n",
    "\n",
    "# Find and print the positive root\n",
    "positive_root = equation.get_positive_root()\n",
    "print(\"The positive root is:\", positive_root)"
   ]
  },
  {
   "cell_type": "code",
   "execution_count": null,
   "id": "633f17d6",
   "metadata": {},
   "outputs": [],
   "source": []
  }
 ],
 "metadata": {
  "kernelspec": {
   "display_name": "Python 3 (ipykernel)",
   "language": "python",
   "name": "python3"
  },
  "language_info": {
   "codemirror_mode": {
    "name": "ipython",
    "version": 3
   },
   "file_extension": ".py",
   "mimetype": "text/x-python",
   "name": "python",
   "nbconvert_exporter": "python",
   "pygments_lexer": "ipython3",
   "version": "3.9.16"
  }
 },
 "nbformat": 4,
 "nbformat_minor": 5
}
