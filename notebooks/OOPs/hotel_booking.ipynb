{
 "cells": [
  {
   "cell_type": "markdown",
   "id": "54cee9b1",
   "metadata": {},
   "source": [
    "<table align=\"left\" width=100%>\n",
    "    <tr>\n",
    "        <td width=\"12%\">\n",
    "            <img src=\"../images/RA_Logo.png\">\n",
    "        </td>\n",
    "        <td>\n",
    "            <div align=\"center\">\n",
    "                <font color=\"#21618C\" size=8px>\n",
    "                  <b> Hotel Booking </b>\n",
    "                </font>\n",
    "            </div>\n",
    "        </td>\n",
    "    </tr>\n",
    "</table>"
   ]
  },
  {
   "cell_type": "markdown",
   "id": "0ace944c",
   "metadata": {},
   "source": [
    "<table align=\"left\">\n",
    "  <td>\n",
    "    <a href=\"https://colab.research.google.com/github/vidyadharbendre/learn_advanced_python_using_examples/blob/main/notebooks/OOPs/hotel_booking.ipynb\" target=\"_parent\"><img src=\"https://colab.research.google.com/assets/colab-badge.svg\" alt=\"Open In Colab\"/></a>\n",
    "  </td>\n",
    "  <td>\n",
    "    <a target=\"_blank\" href=\"https://kaggle.com/kernels/welcome?src=https://github.com/vidyadharbendre/learn_advanced_python_using_examples/blob/main/notebooks/OOPs/hotel_booking.ipynb\"><img src=\"https://kaggle.com/static/images/open-in-kaggle.svg\" /></a>\n",
    "  </td>\n",
    "</table>"
   ]
  },
  {
   "cell_type": "code",
   "execution_count": 1,
   "id": "1cea8fa5",
   "metadata": {},
   "outputs": [],
   "source": [
    "class Hotel:\n",
    "    def __init__(self, name, available_rooms):\n",
    "        self.name = name\n",
    "        self.available_rooms = available_rooms\n",
    "\n",
    "    def book_room(self):\n",
    "        if self.available_rooms > 0:\n",
    "            self.available_rooms -= 1\n",
    "            print(f\"Room booked at {self.name}. Rooms left: {self.available_rooms}\")\n",
    "        else:\n",
    "            print(f\"No rooms available at {self.name}\")"
   ]
  },
  {
   "cell_type": "code",
   "execution_count": 2,
   "id": "73a41e4e",
   "metadata": {},
   "outputs": [],
   "source": [
    "class Booking:\n",
    "    def __init__(self):\n",
    "        self.hotels = []\n",
    "\n",
    "    def add_hotel(self, hotel):\n",
    "        self.hotels.append(hotel)\n",
    "        print(f\"Added hotel: {hotel.name}\")\n",
    "\n",
    "    def list_hotels(self):\n",
    "        for hotel in self.hotels:\n",
    "            print(f\"Hotel: {hotel.name}, Available Rooms: {hotel.available_rooms}\")"
   ]
  },
  {
   "cell_type": "code",
   "execution_count": 3,
   "id": "eba07c36",
   "metadata": {},
   "outputs": [
    {
     "name": "stdout",
     "output_type": "stream",
     "text": [
      "Added hotel: Grand Hotel\n",
      "Added hotel: City Inn\n",
      "Hotel: Grand Hotel, Available Rooms: 20\n",
      "Hotel: City Inn, Available Rooms: 10\n",
      "Room booked at Grand Hotel. Rooms left: 19\n",
      "Room booked at City Inn. Rooms left: 9\n",
      "Hotel: Grand Hotel, Available Rooms: 19\n",
      "Hotel: City Inn, Available Rooms: 9\n"
     ]
    }
   ],
   "source": [
    "def main():\n",
    "    booking = Booking()\n",
    "\n",
    "    hotel1 = Hotel(\"Grand Hotel\", 20)\n",
    "    hotel2 = Hotel(\"City Inn\", 10)\n",
    "\n",
    "    booking.add_hotel(hotel1)\n",
    "    booking.add_hotel(hotel2)\n",
    "\n",
    "    booking.list_hotels()\n",
    "\n",
    "    hotel1.book_room()\n",
    "    hotel2.book_room()\n",
    "\n",
    "    booking.list_hotels()\n",
    "\n",
    "# Run the main function\n",
    "main()"
   ]
  },
  {
   "cell_type": "code",
   "execution_count": 4,
   "id": "9063bea6",
   "metadata": {},
   "outputs": [
    {
     "name": "stdout",
     "output_type": "stream",
     "text": [
      "Enter your password: password123\n",
      "Authentication successful!\n",
      "Enter your new password: password1234\n",
      "Password changed successfully.\n",
      "Username: alice\n"
     ]
    }
   ],
   "source": [
    "# In a Jupyter Notebook cell:\n",
    "\n",
    "class User:\n",
    "    def __init__(self, username, password):\n",
    "        self.username = username\n",
    "        self.password = password\n",
    "\n",
    "    def authenticate(self, entered_password):\n",
    "        \"\"\"\n",
    "        Authenticate the user with the entered password.\n",
    "\n",
    "        Args:\n",
    "            entered_password (str): The password entered by the user.\n",
    "\n",
    "        Returns:\n",
    "            bool: True if the entered password matches the user's password, False otherwise.\n",
    "        \"\"\"\n",
    "        return self.password == entered_password\n",
    "\n",
    "    def change_password(self, new_password):\n",
    "        \"\"\"\n",
    "        Change the user's password.\n",
    "\n",
    "        Args:\n",
    "            new_password (str): The new password to set.\n",
    "        \"\"\"\n",
    "        self.password = new_password\n",
    "\n",
    "    def __str__(self):\n",
    "        \"\"\"\n",
    "        Return a string representation of the user.\n",
    "\n",
    "        Returns:\n",
    "            str: The username of the user.\n",
    "        \"\"\"\n",
    "        return self.username\n",
    "\n",
    "\n",
    "# Create a user\n",
    "user1 = User(\"alice\", \"password123\")\n",
    "\n",
    "# Authenticate the user\n",
    "entered_password = input(\"Enter your password: \")\n",
    "if user1.authenticate(entered_password):\n",
    "    print(\"Authentication successful!\")\n",
    "else:\n",
    "    print(\"Authentication failed.\")\n",
    "\n",
    "# Change the user's password\n",
    "new_password = input(\"Enter your new password: \")\n",
    "user1.change_password(new_password)\n",
    "print(\"Password changed successfully.\")\n",
    "\n",
    "# Print the user's username\n",
    "print(\"Username:\", user1)"
   ]
  },
  {
   "cell_type": "code",
   "execution_count": null,
   "id": "f2bdbb79",
   "metadata": {},
   "outputs": [],
   "source": []
  }
 ],
 "metadata": {
  "kernelspec": {
   "display_name": "Python 3 (ipykernel)",
   "language": "python",
   "name": "python3"
  },
  "language_info": {
   "codemirror_mode": {
    "name": "ipython",
    "version": 3
   },
   "file_extension": ".py",
   "mimetype": "text/x-python",
   "name": "python",
   "nbconvert_exporter": "python",
   "pygments_lexer": "ipython3",
   "version": "3.9.16"
  }
 },
 "nbformat": 4,
 "nbformat_minor": 5
}
