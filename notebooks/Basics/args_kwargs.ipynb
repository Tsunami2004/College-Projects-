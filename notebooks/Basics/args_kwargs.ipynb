{
 "cells": [
  {
   "cell_type": "markdown",
   "id": "027129b2-e661-4d11-b7da-9bb2ca579dbf",
   "metadata": {},
   "source": [
    "<table align=\"left\" width=100%>\n",
    "    <tr>\n",
    "        <td width=\"12%\">\n",
    "            <img src=\"../images/RA_Logo.png\">\n",
    "        </td>\n",
    "        <td>\n",
    "            <div align=\"center\">\n",
    "                <font color=\"#21618C\" size=8px>\n",
    "                  <b> *args and **kwargs\n",
    "                </font>\n",
    "            </div>\n",
    "        </td>\n",
    "    </tr>\n",
    "</table>"
   ]
  },
  {
   "cell_type": "markdown",
   "id": "700be583-768b-4f2b-b304-8fd4c7d7c752",
   "metadata": {},
   "source": [
    "<table align=\"left\">\n",
    "  <td>\n",
    "    <a href=\"https://colab.research.google.com/github/vidyadharbendre/learn_advanced_python_using_examples/blob/main/notebooks/Basics/args_kwargs.ipynb\" target=\"_parent\"><img src=\"https://colab.research.google.com/assets/colab-badge.svg\" alt=\"Open In Colab\"/></a>\n",
    "  </td>\n",
    "  <td>\n",
    "    <a target=\"_blank\" href=\"https://kaggle.com/kernels/welcome?src=https://github.com/vidyadharbendre/learn_advanced_python_using_examples/blob/main/notebooks/Basics/args_kwargs.ipynb\"><img src=\"https://kaggle.com/static/images/open-in-kaggle.svg\" /></a>\n",
    "  </td>\n",
    "</table>"
   ]
  },
  {
   "cell_type": "markdown",
   "id": "2f815c00-22f7-4817-b7d9-2526402c5c7f",
   "metadata": {},
   "source": [
    "# `*args` and `**kwargs`\n",
    "\n",
    "`*args` and `**kwargs` concepts, use cases, and providing hands-on examples.\n",
    "\n",
    "## Step 1: Explain the Basics of Function Arguments\n",
    "\n",
    "### Positional Arguments"
   ]
  },
  {
   "cell_type": "code",
   "execution_count": 5,
   "id": "dbe08069-e3d3-4f6a-8646-116e4f398a7c",
   "metadata": {},
   "outputs": [],
   "source": [
    "def greet(name, age):\n",
    "    print(f\"Hello, {name}. You are {age} years old.\")"
   ]
  },
  {
   "cell_type": "code",
   "execution_count": 6,
   "id": "4e4e653f-3819-4544-8e5a-e8de7a45c9ea",
   "metadata": {},
   "outputs": [
    {
     "name": "stdout",
     "output_type": "stream",
     "text": [
      "Hello, Vidyadhar. You are 50 years old.\n"
     ]
    }
   ],
   "source": [
    "greet(\"Vidyadhar\", 50)"
   ]
  },
  {
   "cell_type": "code",
   "execution_count": 7,
   "id": "d417e9db-efb7-4122-bfaa-31bd52fd51eb",
   "metadata": {},
   "outputs": [
    {
     "name": "stdout",
     "output_type": "stream",
     "text": [
      "Hello, 50. You are Vidyadhar years old.\n"
     ]
    }
   ],
   "source": [
    "greet(50, \"Vidyadhar\")"
   ]
  },
  {
   "cell_type": "markdown",
   "id": "9ead2b3f-ec14-4901-ae53-c42910143e64",
   "metadata": {},
   "source": [
    "### Keyword Arguments\n"
   ]
  },
  {
   "cell_type": "code",
   "execution_count": 8,
   "id": "786a15f3-62bc-48ae-a6ca-f6064351238b",
   "metadata": {},
   "outputs": [],
   "source": [
    "def greet(name, age):\n",
    "    print(f\"Hello, {name}. You are {age} years old.\")"
   ]
  },
  {
   "cell_type": "code",
   "execution_count": 9,
   "id": "175735cb-e947-475c-8e71-509daee465e0",
   "metadata": {},
   "outputs": [
    {
     "name": "stdout",
     "output_type": "stream",
     "text": [
      "Hello, Poornima. You are 46 years old.\n"
     ]
    }
   ],
   "source": [
    "greet(name=\"Poornima\", age=46)"
   ]
  },
  {
   "cell_type": "code",
   "execution_count": 10,
   "id": "96873f73-581a-47bf-b390-ccd3400ffb25",
   "metadata": {},
   "outputs": [
    {
     "name": "stdout",
     "output_type": "stream",
     "text": [
      "Hello, Poornima. You are 46 years old.\n"
     ]
    }
   ],
   "source": [
    "greet(age=46, name=\"Poornima\")"
   ]
  },
  {
   "cell_type": "markdown",
   "id": "2dc68c16-3e42-44be-9a31-31272cb46188",
   "metadata": {},
   "source": [
    "## Step 2: Introduce *args\n",
    "\n",
    "### Concept\n",
    "Explain that *args allows a function to accept any number of positional arguments. The arguments are passed as a tuple.\n",
    "\n",
    "### Basic Example"
   ]
  },
  {
   "cell_type": "code",
   "execution_count": 12,
   "id": "67f0e189-5d9e-45e9-ada6-52057548c3e0",
   "metadata": {},
   "outputs": [],
   "source": [
    "def greet(*args):\n",
    "    for arg in args:\n",
    "        print(f\"Hello, {arg}!\")"
   ]
  },
  {
   "cell_type": "code",
   "execution_count": 13,
   "id": "1c7432ff-e11b-4824-8812-db0752a2a080",
   "metadata": {},
   "outputs": [
    {
     "name": "stdout",
     "output_type": "stream",
     "text": [
      "Hello, Vidyadhar!\n",
      "Hello, Poornima!\n",
      "Hello, Akshara!\n"
     ]
    }
   ],
   "source": [
    "greet(\"Vidyadhar\", \"Poornima\", \"Akshara\")"
   ]
  },
  {
   "cell_type": "code",
   "execution_count": 15,
   "id": "f60a4f1a-18f9-4c56-89e8-5c8f18cd8247",
   "metadata": {},
   "outputs": [],
   "source": [
    "def greet(args):\n",
    "    for arg in args:\n",
    "        print(f\"Hello, {arg}!\")"
   ]
  },
  {
   "cell_type": "code",
   "execution_count": 18,
   "id": "82af2ef5-1c37-42d2-911f-5af0a5e6f0c3",
   "metadata": {},
   "outputs": [
    {
     "name": "stdout",
     "output_type": "stream",
     "text": [
      "Hello, Vidyadhar!\n",
      "Hello, Poornima!\n",
      "Hello, Atharva!\n"
     ]
    }
   ],
   "source": [
    "greet([\"Vidyadhar\", \"Poornima\", \"Atharva\"])"
   ]
  },
  {
   "cell_type": "markdown",
   "id": "89ffdddc-a76c-4bc9-bbe5-ba0cf2a36ebc",
   "metadata": {},
   "source": [
    "### Practical Example\n",
    "Calculate the sum of an unknown number of arguments."
   ]
  },
  {
   "cell_type": "code",
   "execution_count": 19,
   "id": "9b322fdb-d64e-4ca5-b142-6e4673305f31",
   "metadata": {},
   "outputs": [
    {
     "name": "stdout",
     "output_type": "stream",
     "text": [
      "10\n"
     ]
    }
   ],
   "source": [
    "def calculate_sum(*args):\n",
    "    return sum(args)\n",
    "\n",
    "print(calculate_sum(1, 2, 3, 4))"
   ]
  },
  {
   "cell_type": "code",
   "execution_count": 23,
   "id": "051208c1-c17f-4fb4-8f7a-d356640afab8",
   "metadata": {},
   "outputs": [
    {
     "name": "stdout",
     "output_type": "stream",
     "text": [
      "[1 2 3 4 5 6 7 8 9]\n"
     ]
    }
   ],
   "source": [
    "import numpy as np\n",
    "def calculate_sum(*args):\n",
    "    return sum(args)\n",
    "\n",
    "\n",
    "numbers = np.arange(1, 10, 1)\n",
    "print(calculate_sum(numbers))"
   ]
  },
  {
   "cell_type": "code",
   "execution_count": 25,
   "id": "a6a833a5-e40c-467c-81ef-69e1dec0e809",
   "metadata": {},
   "outputs": [
    {
     "data": {
      "text/plain": [
       "array([1, 2, 3, 4, 5, 6, 7, 8, 9])"
      ]
     },
     "execution_count": 25,
     "metadata": {},
     "output_type": "execute_result"
    }
   ],
   "source": [
    "numbers = np.arange(1, 10, 1)\n",
    "numbers"
   ]
  },
  {
   "cell_type": "markdown",
   "id": "58a41efc-2cff-4f19-b8c4-b756b0931779",
   "metadata": {},
   "source": [
    "The function calculate_sum is expecting individual arguments, not an array. You need to unpack the numbers array when passing it to the function"
   ]
  },
  {
   "cell_type": "code",
   "execution_count": 26,
   "id": "6959ebec-8a7f-4085-af2c-c2ce497fa773",
   "metadata": {},
   "outputs": [
    {
     "name": "stdout",
     "output_type": "stream",
     "text": [
      "45\n"
     ]
    }
   ],
   "source": [
    "print(calculate_sum(*numbers))"
   ]
  },
  {
   "cell_type": "markdown",
   "id": "1af1a491-c83d-456b-8d7d-f01964b66a99",
   "metadata": {},
   "source": [
    "## Step 3: Introduce **kwargs\n",
    "\n",
    "### Concept\n",
    "Explain that **kwargs allows a function to accept any number of keyword arguments. The arguments are passed as a dictionary.\n",
    "\n",
    "### Basic Example"
   ]
  },
  {
   "cell_type": "code",
   "execution_count": 27,
   "id": "7eed5273-f10e-4b36-949a-9a5bc1ebed61",
   "metadata": {},
   "outputs": [
    {
     "name": "stdout",
     "output_type": "stream",
     "text": [
      "name: Vidyadhar\n",
      "age: 50\n"
     ]
    }
   ],
   "source": [
    "def greet(**kwargs):\n",
    "    for key, value in kwargs.items():\n",
    "        print(f\"{key}: {value}\")\n",
    "\n",
    "greet(name=\"Vidyadhar\", age=50)"
   ]
  },
  {
   "cell_type": "code",
   "execution_count": 28,
   "id": "24d9ae00-c051-46ea-a4b2-878c8e719717",
   "metadata": {},
   "outputs": [
    {
     "name": "stdout",
     "output_type": "stream",
     "text": [
      "name: Vidyadhar\n",
      "age: 50\n",
      "city: Bengaluru\n",
      "profession: Asst. Professor\n",
      "dept: AIML\n"
     ]
    }
   ],
   "source": [
    "def greet(**kwargs):\n",
    "    for key, value in kwargs.items():\n",
    "        print(f\"{key}: {value}\")\n",
    "\n",
    "greet(name=\"Vidyadhar\", age=50, city=\"Bengaluru\", profession=\"Asst. Professor\", dept=\"AIML\")"
   ]
  },
  {
   "cell_type": "code",
   "execution_count": 30,
   "id": "22f8d3dd-8159-4978-9061-7917023a5c48",
   "metadata": {},
   "outputs": [
    {
     "name": "stdout",
     "output_type": "stream",
     "text": [
      "Name: Vidyadhar\n",
      "Age: 50\n",
      "City: Bengaluru\n",
      "Profession: Asst. Professor\n",
      "Dept: AIML\n"
     ]
    }
   ],
   "source": [
    "def greet(**kwargs):\n",
    "    for key, value in kwargs.items():\n",
    "        print(f\"{key.capitalize()}: {value}\")\n",
    "\n",
    "greet(name=\"Vidyadhar\", age=50, city=\"Bengaluru\", profession=\"Asst. Professor\", dept=\"AIML\")"
   ]
  },
  {
   "cell_type": "markdown",
   "id": "b6451b6f-05b9-464c-bf6d-12c4dacacdfd",
   "metadata": {},
   "source": [
    "If you want to pass two sets of key-value pairs to a function using **kwargs, you can combine the sets into a single dictionary before passing them to the function"
   ]
  },
  {
   "cell_type": "code",
   "execution_count": 38,
   "id": "9da77354-311d-4ee8-82da-1217a5eaa1bf",
   "metadata": {},
   "outputs": [
    {
     "name": "stdout",
     "output_type": "stream",
     "text": [
      "Name: Vidyadhar\n",
      "Age: 50\n"
     ]
    }
   ],
   "source": [
    "def greet(**kwargs):\n",
    "    for key, value in kwargs.items():\n",
    "        print(f\"{key.capitalize()}: {value}\")\n",
    "\n",
    "params_1 = {\"name\":\"Vidyadhar\", \"age\":50}\n",
    "greet(**params_1)"
   ]
  },
  {
   "cell_type": "code",
   "execution_count": 43,
   "id": "45d8b95e-83f8-4f28-bece-1e17258b48bf",
   "metadata": {},
   "outputs": [
    {
     "name": "stdout",
     "output_type": "stream",
     "text": [
      "Name: Poornima\n",
      "Age: 46\n"
     ]
    }
   ],
   "source": [
    "def greet(**kwargs):\n",
    "    for key, value in kwargs.items():\n",
    "        print(f\"{key.capitalize()}: {value}\")\n",
    "        \n",
    "params_1 = {\"name\":\"Vidyadhar\", \"age\":50}\n",
    "params_2 = {\"name\":\"Poornima\", \"age\":46}\n",
    "\n",
    "combined_kwargs = {**params_1, **params_2}\n",
    "greet(**combined_kwargs)"
   ]
  },
  {
   "cell_type": "markdown",
   "id": "9d133a9c-b808-45f6-b6d1-a20b45fd1d23",
   "metadata": {},
   "source": [
    "When you combine params_1 and params_2 into combined_kwargs using {**params_1, **params_2}, the values in params_2 will overwrite those in params_1 if they share the same keys. In your example, both dictionaries have the keys name and age, so params_2 will overwrite params_1.\n",
    "\n",
    "If you want to handle both sets of key-value pairs separately, you need to differentiate them or merge them in a way that retains all values. Here's an example of how you can achieve this by nesting dictionaries:"
   ]
  },
  {
   "cell_type": "code",
   "execution_count": 44,
   "id": "6aedb16e-389e-48ae-a3ed-3cbff72fbaca",
   "metadata": {},
   "outputs": [
    {
     "name": "stdout",
     "output_type": "stream",
     "text": [
      "\n",
      "Details of Person1:\n",
      "Name: Vidyadhar\n",
      "Age: 50\n",
      "\n",
      "Details of Person2:\n",
      "Name: Poornima\n",
      "Age: 46\n"
     ]
    }
   ],
   "source": [
    "def greet(**kwargs):\n",
    "    for key, value in kwargs.items():\n",
    "        print(f\"{key.capitalize()}: {value}\")\n",
    "\n",
    "params_1 = {\"person1\": {\"name\": \"Vidyadhar\", \"age\": 50}}\n",
    "params_2 = {\"person2\": {\"name\": \"Poornima\", \"age\": 46}}\n",
    "\n",
    "# Combine the sets into a single dictionary\n",
    "combined_kwargs = {**params_1, **params_2}\n",
    "\n",
    "# Flatten the dictionary for the function\n",
    "for person, details in combined_kwargs.items():\n",
    "    print(f\"\\nDetails of {person.capitalize()}:\")\n",
    "    greet(**details)"
   ]
  },
  {
   "cell_type": "markdown",
   "id": "1be90b94-020a-43f2-9ae3-a0dca18cd52a",
   "metadata": {},
   "source": [
    "### Practical Example\n",
    "Display a person's details."
   ]
  },
  {
   "cell_type": "code",
   "execution_count": 45,
   "id": "6b684cc7-9280-477b-b068-3dc72fd23570",
   "metadata": {},
   "outputs": [
    {
     "name": "stdout",
     "output_type": "stream",
     "text": [
      "Name: Vidyadhar\n",
      "Age: 50\n",
      "City: Bengaluru\n"
     ]
    }
   ],
   "source": [
    "def display_person_info(**kwargs):\n",
    "    for key, value in kwargs.items():\n",
    "        print(f\"{key.capitalize()}: {value}\")\n",
    "\n",
    "display_person_info(name=\"Vidyadhar\", age=50, city=\"Bengaluru\")"
   ]
  },
  {
   "cell_type": "markdown",
   "id": "9aa03ded-27eb-4078-9961-a1e340bcd039",
   "metadata": {},
   "source": [
    "## Step 4: Combining *args and **kwargs\n",
    "\n",
    "### Concept\n",
    "Explain that both *args and **kwargs can be used together in the same function.\n",
    "\n",
    "Example"
   ]
  },
  {
   "cell_type": "code",
   "execution_count": 46,
   "id": "758374e5-b36a-4c33-9e5d-54c3329bccd1",
   "metadata": {},
   "outputs": [
    {
     "name": "stdout",
     "output_type": "stream",
     "text": [
      "Hello, Vidyadhar!\n",
      "Hello, Bendre!\n",
      "age: 50\n",
      "city: Bengaluru\n"
     ]
    }
   ],
   "source": [
    "def greet(*args, **kwargs):\n",
    "    for arg in args:\n",
    "        print(f\"Hello, {arg}!\")\n",
    "\n",
    "    for key, value in kwargs.items():\n",
    "        print(f\"{key}: {value}\")\n",
    "\n",
    "greet(\"Vidyadhar\", \"Bendre\", age=50, city=\"Bengaluru\")"
   ]
  },
  {
   "cell_type": "markdown",
   "id": "761ed2c6-279c-457f-a797-58edc2b819b0",
   "metadata": {},
   "source": [
    "## Step 5: Hands-On Exercise\n",
    "\n",
    "An exercise to implement.\n",
    "\n",
    "### Exercise:\n",
    "Create a function that calculates the total price of items in a shopping cart. The function should accept a discount as a positional argument, any number of item prices as *args, and additional costs like tax and shipping as **kwargs.\n",
    "\n",
    "Solution"
   ]
  },
  {
   "cell_type": "code",
   "execution_count": 51,
   "id": "5212b986-019e-413d-bb3f-b080e007b884",
   "metadata": {},
   "outputs": [
    {
     "name": "stdout",
     "output_type": "stream",
     "text": [
      "Total amount after discount: $325\n"
     ]
    }
   ],
   "source": [
    "def calculate_total(discount, *args, **kwargs):\n",
    "    total = sum(args) + sum(kwargs.values()) - discount\n",
    "    return total\n",
    "\n",
    "# Example usage\n",
    "total_amount = calculate_total(20, 100, 200, tax=30, shipping=15)\n",
    "print(f\"Total amount after discount: ${total_amount}\")"
   ]
  },
  {
   "cell_type": "markdown",
   "id": "4da3e038-5e40-4acf-bf0b-113caa82e3fc",
   "metadata": {},
   "source": [
    "## You can type option + 4 to type Indian rupees symbol"
   ]
  },
  {
   "cell_type": "code",
   "execution_count": 52,
   "id": "1faed9bc-487b-4347-9ac7-841c7801b290",
   "metadata": {},
   "outputs": [
    {
     "name": "stdout",
     "output_type": "stream",
     "text": [
      "Total amount after discount: ₹1025\n"
     ]
    }
   ],
   "source": [
    "def calculate_total(discount, *args, **kwargs):\n",
    "    total = sum(args) + sum(kwargs.values()) - discount\n",
    "    return total\n",
    "\n",
    "# Example usage\n",
    "total_amount = calculate_total(20, 100, 200, 300, 400, tax=30, shipping=15)\n",
    "print(f\"Total amount after discount: ₹{total_amount}\")"
   ]
  },
  {
   "cell_type": "markdown",
   "id": "7fa45507-4828-4fa2-9a9b-37a8969aff92",
   "metadata": {},
   "source": [
    "## Summary and Best Practices\n",
    "\n",
    "### Recap Concepts\n",
    "\n",
    "*args: For variable number of positional arguments.\n",
    "\n",
    "**kwargs: For variable number of keyword arguments.\n",
    "\n",
    "Best Practices\n",
    "Use descriptive names instead of *args and **kwargs (e.g., *prices, **additional_costs) to improve code readability.\n",
    "Ensure the function logic handles the arguments appropriately."
   ]
  },
  {
   "cell_type": "code",
   "execution_count": null,
   "id": "5e0c68e5-e338-41b7-b86f-b5a1c385bbd8",
   "metadata": {},
   "outputs": [],
   "source": []
  }
 ],
 "metadata": {
  "kernelspec": {
   "display_name": "Python 3 (ipykernel)",
   "language": "python",
   "name": "python3"
  },
  "language_info": {
   "codemirror_mode": {
    "name": "ipython",
    "version": 3
   },
   "file_extension": ".py",
   "mimetype": "text/x-python",
   "name": "python",
   "nbconvert_exporter": "python",
   "pygments_lexer": "ipython3",
   "version": "3.9.19"
  }
 },
 "nbformat": 4,
 "nbformat_minor": 5
}
