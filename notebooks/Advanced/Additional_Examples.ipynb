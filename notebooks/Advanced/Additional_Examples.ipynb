{
 "cells": [
  {
   "cell_type": "markdown",
   "id": "be258021",
   "metadata": {},
   "source": [
    "<table align=\"left\" width=100%>\n",
    "    <tr>\n",
    "        <td width=\"12%\">\n",
    "            <img src=\"../images/RA_Logo.png\">\n",
    "        </td>\n",
    "        <td>\n",
    "            <div align=\"center\">\n",
    "                <font color=\"#21618C\" size=8px>\n",
    "                    <b>Additional Examples <br> (Day 5) </b>\n",
    "                    </b>\n",
    "                </font>\n",
    "            </div>\n",
    "        </td>\n",
    "    </tr>\n",
    "</table>"
   ]
  },
  {
   "cell_type": "markdown",
   "id": "cfe0ef57",
   "metadata": {},
   "source": [
    "<table align=\"left\">\n",
    "  <td>\n",
    "    <a href=\"https://colab.research.google.com/github/vidyadharbendre/learn_advanced_python_using_examples/blob/main/notebooks/Advanced/Additional_Examples.ipynb\" target=\"_parent\"><img src=\"https://colab.research.google.com/assets/colab-badge.svg\" alt=\"Open In Colab\"/></a>\n",
    "  </td>\n",
    "  <td>\n",
    "    <a target=\"_blank\" href=\"https://kaggle.com/kernels/welcome?src=https://github.com/vidyadharbendre/learn_advanced_python_using_examples/blob/main/notebooks/Advanced/Additional_Examples.ipynb\"><img src=\"https://kaggle.com/static/images/open-in-kaggle.svg\" /></a>\n",
    "  </td>\n",
    "</table>"
   ]
  },
  {
   "cell_type": "code",
   "execution_count": 1,
   "id": "3b3572a8",
   "metadata": {},
   "outputs": [],
   "source": [
    "import numpy as np\n",
    "import pandas as pd\n",
    "import matplotlib.pyplot as plt"
   ]
  },
  {
   "cell_type": "code",
   "execution_count": 42,
   "id": "0a5aedf7",
   "metadata": {},
   "outputs": [],
   "source": [
    "# Set mean and standard deviation for the normal distribution\n",
    "mean_marks = 75\n",
    "std_dev = 10\n",
    "num_marks = 100"
   ]
  },
  {
   "cell_type": "code",
   "execution_count": 58,
   "id": "a28546c5",
   "metadata": {},
   "outputs": [],
   "source": [
    "#np.random.normal(mean_marks, std_dev, num_marks)"
   ]
  },
  {
   "cell_type": "code",
   "execution_count": 59,
   "id": "d8809272",
   "metadata": {},
   "outputs": [],
   "source": [
    "marks = np.random.normal(mean_marks, std_dev, num_marks)"
   ]
  },
  {
   "cell_type": "code",
   "execution_count": 60,
   "id": "900a60b3",
   "metadata": {},
   "outputs": [
    {
     "data": {
      "text/plain": [
       "(74.69750228085437, 10.767564558335616)"
      ]
     },
     "execution_count": 60,
     "metadata": {},
     "output_type": "execute_result"
    }
   ],
   "source": [
    "marks.mean(), marks.std(),"
   ]
  },
  {
   "cell_type": "code",
   "execution_count": 61,
   "id": "3cc1e7fa",
   "metadata": {},
   "outputs": [],
   "source": [
    "# Generate 100 marks using normal distribution\n",
    "marks = np.random.normal(mean_marks, std_dev, num_marks)"
   ]
  },
  {
   "cell_type": "code",
   "execution_count": 62,
   "id": "56865e4f",
   "metadata": {},
   "outputs": [],
   "source": [
    "# Step 2: Create a list of student names\n",
    "students = [f'Student_{i+1}' for i in range(num_marks)]"
   ]
  },
  {
   "cell_type": "code",
   "execution_count": 63,
   "id": "6ca22c79",
   "metadata": {},
   "outputs": [],
   "source": [
    "# Step 3: Create a DataFrame with student names\n",
    "df = pd.DataFrame({'Student': students})"
   ]
  },
  {
   "cell_type": "code",
   "execution_count": 64,
   "id": "a821d8f5",
   "metadata": {},
   "outputs": [],
   "source": [
    "# Step 4: Add the marks as a new column in the DataFrame\n",
    "df['Marks'] = marks"
   ]
  },
  {
   "cell_type": "code",
   "execution_count": 65,
   "id": "58faa87b",
   "metadata": {},
   "outputs": [
    {
     "name": "stdout",
     "output_type": "stream",
     "text": [
      "DataFrame with Marks:\n",
      "     Student      Marks\n",
      "0  Student_1  64.755675\n",
      "1  Student_2  76.300608\n",
      "2  Student_3  63.103135\n",
      "3  Student_4  70.400817\n",
      "4  Student_5  74.812779\n"
     ]
    }
   ],
   "source": [
    "# Print the updated DataFrame\n",
    "print(\"DataFrame with Marks:\")\n",
    "print(df.head())"
   ]
  },
  {
   "cell_type": "code",
   "execution_count": 72,
   "id": "11ae87c6",
   "metadata": {},
   "outputs": [
    {
     "data": {
      "image/png": "[encoded data removed]",
      "text/plain": [
       "<Figure size 640x480 with 1 Axes>"
      ]
     },
     "metadata": {},
     "output_type": "display_data"
    }
   ],
   "source": [
    "# Visualize the distribution of marks\n",
    "plt.hist(marks, bins=10, edgecolor='black')\n",
    "plt.xlabel('Marks')\n",
    "plt.ylabel('Frequency')\n",
    "plt.title('Distribution of Marks')\n",
    "plt.grid(True)\n",
    "plt.show()"
   ]
  },
  {
   "cell_type": "code",
   "execution_count": null,
   "id": "f8e33678",
   "metadata": {},
   "outputs": [],
   "source": []
  }
 ],
 "metadata": {
  "kernelspec": {
   "display_name": "Python 3 (ipykernel)",
   "language": "python",
   "name": "python3"
  },
  "language_info": {
   "codemirror_mode": {
    "name": "ipython",
    "version": 3
   },
   "file_extension": ".py",
   "mimetype": "text/x-python",
   "name": "python",
   "nbconvert_exporter": "python",
   "pygments_lexer": "ipython3",
   "version": "3.9.16"
  }
 },
 "nbformat": 4,
 "nbformat_minor": 5
}
