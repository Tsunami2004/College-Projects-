{
 "cells": [
  {
   "cell_type": "markdown",
   "metadata": {},
   "source": [
    "<table align=\"left\" width=100%>\n",
    "    <tr>\n",
    "        <td width=\"12%\">\n",
    "            <img src=\"../images/RA_Logo.png\">\n",
    "        </td>\n",
    "        <td>\n",
    "            <div align=\"center\">\n",
    "                <font color=\"#21618C\" size=8px>\n",
    "                  <b> Advanced Python Programming <br> (Day 1) </b>\n",
    "                </font>\n",
    "            </div>\n",
    "        </td>\n",
    "    </tr>\n",
    "</table>"
   ]
  },
  {
   "cell_type": "markdown",
   "metadata": {},
   "source": [
    "<table align=\"left\">\n",
    "  <td>\n",
    "    <a href=\"https://colab.research.google.com/github/vidyadharbendre/learn_advanced_python_using_examples/blob/main/notebooks/Advanced/advanced_python_programming_1.ipynb\" target=\"_parent\"><img src=\"https://colab.research.google.com/assets/colab-badge.svg\" alt=\"Open In Colab\"/></a>\n",
    "  </td>\n",
    "  <td>\n",
    "    <a target=\"_blank\" href=\"https://kaggle.com/kernels/welcome?src=https://github.com/vidyadharbendre/learn_advanced_python_using_examples/blob/main/notebooks/Advanced/advanced_python_programming_1.ipynb\"><img src=\"https://kaggle.com/static/images/open-in-kaggle.svg\" /></a>\n",
    "  </td>\n",
    "</table>"
   ]
  },
  {
   "cell_type": "markdown",
   "metadata": {},
   "source": [
    "##  Table of Content\n",
    "\n",
    "1. **[One Dimensional Array](#1D)**\n",
    "2. **[Two Dimensional Array](#2D)**\n",
    "3. **[Stacking](#Stacking)**\n",
    "4. **[Splitting](#Splitting)**\n",
    "5. **[For Loop](#loop)**"
   ]
  },
  {
   "cell_type": "code",
   "execution_count": 53,
   "metadata": {},
   "outputs": [
    {
     "name": "stdout",
     "output_type": "stream",
     "text": [
      "Name: numpy\r\n",
      "Version: 1.24.1\r\n",
      "Summary: Fundamental package for array computing in Python\r\n",
      "Home-page: https://www.numpy.org\r\n",
      "Author: Travis E. Oliphant et al.\r\n",
      "Author-email: \r\n",
      "License: BSD-3-Clause\r\n",
      "Location: /Users/vidyadharbendre/miniforge3/envs/python_env/lib/python3.9/site-packages\r\n",
      "Requires: \r\n",
      "Required-by: contourpy, gensim, gym, h5py, imageio, Keras-Applications, Keras-Preprocessing, matplotlib, opencv-python, opt-einsum, pandas, patsy, scikit-image, scikit-learn, scikit-surprise, scipy, seaborn, stable-baselines3, statsmodels, tensorboard, tensorflow-hub, tensorflow-macos, tifffile, wordcloud, xgboost, yellowbrick\r\n"
     ]
    }
   ],
   "source": [
    "!pip show numpy"
   ]
  },
  {
   "cell_type": "code",
   "execution_count": 8,
   "metadata": {},
   "outputs": [],
   "source": [
    "#!conda install numpy\n",
    "# or \n",
    "#!pip install numpy"
   ]
  },
  {
   "cell_type": "markdown",
   "metadata": {},
   "source": [
    "### Let's begin with some hands-on practice exercises"
   ]
  },
  {
   "cell_type": "markdown",
   "metadata": {},
   "source": [
    "<a id=\"1D\"> </a>\n",
    "## 1. One Dimensional Array"
   ]
  },
  {
   "cell_type": "markdown",
   "metadata": {},
   "source": [
    "A one-dimensional array in NumPy, often referred to as a 1D array or vector, is a data structure that represents a sequence of elements along a single dimension. It is similar to a list or array in Python but offers more functionality and efficiency for numerical computations"
   ]
  },
  {
   "cell_type": "code",
   "execution_count": 31,
   "metadata": {},
   "outputs": [
    {
     "name": "stdout",
     "output_type": "stream",
     "text": [
      "Python: 3.9.16 | packaged by conda-forge | (main, Feb  1 2023, 21:38:11) \n",
      "[Clang 14.0.6 ]\n"
     ]
    }
   ],
   "source": [
    "# Python version\n",
    "import sys\n",
    "print('Python: {}'.format(sys.version))"
   ]
  },
  {
   "cell_type": "code",
   "execution_count": 32,
   "metadata": {},
   "outputs": [
    {
     "name": "stdout",
     "output_type": "stream",
     "text": [
      "numpy: 1.24.1\n"
     ]
    }
   ],
   "source": [
    "# numpy\n",
    "import numpy\n",
    "print('numpy: {}'.format(numpy.__version__))"
   ]
  },
  {
   "cell_type": "code",
   "execution_count": 37,
   "metadata": {},
   "outputs": [
    {
     "name": "stdout",
     "output_type": "stream",
     "text": [
      "Python: 3.9.16 | packaged by conda-forge | (main, Feb  1 2023, 21:38:11) \n",
      "[Clang 14.0.6 ]\n",
      "scipy: 1.13.0\n",
      "numpy: 1.24.1\n",
      "matplotlib: 3.8.4\n",
      "pandas: 1.4.3\n",
      "sklearn: 1.4.2\n",
      "seaborn: 0.11.2\n",
      "urlib: urllib\n",
      "csv: 1.0\n"
     ]
    }
   ],
   "source": [
    "# Machine Learning Libraries\n",
    "# Python version\n",
    "import sys\n",
    "print('Python: {}'.format(sys.version))\n",
    "# scipy\n",
    "import scipy\n",
    "print('scipy: {}'.format(scipy.__version__))\n",
    "# numpy\n",
    "import numpy\n",
    "print('numpy: {}'.format(numpy.__version__))\n",
    "# matplotlib\n",
    "import matplotlib\n",
    "print('matplotlib: {}'.format(matplotlib.__version__))\n",
    "# pandas\n",
    "import pandas\n",
    "print('pandas: {}'.format(pandas.__version__))\n",
    "# scikit-learn\n",
    "import sklearn\n",
    "print('sklearn: {}'.format(sklearn.__version__))\n",
    "import seaborn\n",
    "print('seaborn: {}'.format(seaborn.__version__))\n",
    "import urllib\n",
    "print('urlib: {}'.format(urllib.__name__))\n",
    "import csv\n",
    "print('csv: {}'.format(csv.__version__))"
   ]
  },
  {
   "cell_type": "code",
   "execution_count": 33,
   "metadata": {},
   "outputs": [],
   "source": [
    "import numpy as np\n",
    "arr_1 = np.array([1, 2, 3])"
   ]
  },
  {
   "cell_type": "code",
   "execution_count": 11,
   "metadata": {},
   "outputs": [],
   "source": [
    "list_1 = [1, 2, 3]"
   ]
  },
  {
   "cell_type": "code",
   "execution_count": 12,
   "metadata": {},
   "outputs": [
    {
     "data": {
      "text/plain": [
       "array([1, 2, 3])"
      ]
     },
     "execution_count": 12,
     "metadata": {},
     "output_type": "execute_result"
    }
   ],
   "source": [
    "np.array(list_1)"
   ]
  },
  {
   "cell_type": "code",
   "execution_count": 13,
   "metadata": {},
   "outputs": [
    {
     "data": {
      "text/plain": [
       "numpy.ndarray"
      ]
     },
     "execution_count": 13,
     "metadata": {},
     "output_type": "execute_result"
    }
   ],
   "source": [
    "type(arr_1)"
   ]
  },
  {
   "cell_type": "code",
   "execution_count": 14,
   "metadata": {},
   "outputs": [
    {
     "name": "stdout",
     "output_type": "stream",
     "text": [
      "[1 2 3 4]\n",
      "<class 'numpy.ndarray'>\n"
     ]
    }
   ],
   "source": [
    "arr_range = np.arange(start=1, stop=5)\n",
    "print(arr_range)\n",
    "print(type(arr_range))"
   ]
  },
  {
   "cell_type": "code",
   "execution_count": 15,
   "metadata": {},
   "outputs": [
    {
     "data": {
      "text/plain": [
       "array([0., 0., 0.])"
      ]
     },
     "execution_count": 15,
     "metadata": {},
     "output_type": "execute_result"
    }
   ],
   "source": [
    "np.zeros(3)"
   ]
  },
  {
   "cell_type": "code",
   "execution_count": 16,
   "metadata": {},
   "outputs": [
    {
     "name": "stdout",
     "output_type": "stream",
     "text": [
      "[[0. 0. 0. 0.]\n",
      " [0. 0. 0. 0.]\n",
      " [0. 0. 0. 0.]]\n",
      "<class 'numpy.ndarray'>\n"
     ]
    }
   ],
   "source": [
    "zero_1 = np.zeros((3, 4))\n",
    "print(zero_1)\n",
    "print(type(zero_1))"
   ]
  },
  {
   "cell_type": "code",
   "execution_count": 17,
   "metadata": {},
   "outputs": [
    {
     "data": {
      "text/plain": [
       "array([[1., 1., 1., 1., 1., 1., 1., 1., 1., 1.],\n",
       "       [1., 1., 1., 1., 1., 1., 1., 1., 1., 1.],\n",
       "       [1., 1., 1., 1., 1., 1., 1., 1., 1., 1.],\n",
       "       [1., 1., 1., 1., 1., 1., 1., 1., 1., 1.],\n",
       "       [1., 1., 1., 1., 1., 1., 1., 1., 1., 1.]])"
      ]
     },
     "execution_count": 17,
     "metadata": {},
     "output_type": "execute_result"
    }
   ],
   "source": [
    "np.ones((5, 10))"
   ]
  },
  {
   "cell_type": "code",
   "execution_count": 18,
   "metadata": {},
   "outputs": [
    {
     "name": "stdout",
     "output_type": "stream",
     "text": [
      "1D Array: [1 2 3 4 5]\n",
      "1D Array (using arange): [1 2 3 4 5]\n",
      "1D Array of Zeros: [0. 0. 0. 0. 0.]\n",
      "1D Array of Ones: [1. 1. 1. 1. 1.]\n"
     ]
    }
   ],
   "source": [
    "import numpy as np\n",
    "\n",
    "# Create a 1D array from a Python list\n",
    "arr = np.array([1, 2, 3, 4, 5])\n",
    "\n",
    "# Alternatively, you can use np.arange to create a range of values\n",
    "arr_range = np.arange(1, 6)\n",
    "\n",
    "# You can also create an array of zeros or ones\n",
    "arr_zeros = np.zeros(5)\n",
    "arr_ones = np.ones(5)\n",
    "\n",
    "# Print the arrays\n",
    "print(\"1D Array:\", arr)\n",
    "print(\"1D Array (using arange):\", arr_range)\n",
    "print(\"1D Array of Zeros:\", arr_zeros)\n",
    "print(\"1D Array of Ones:\", arr_ones)"
   ]
  },
  {
   "cell_type": "code",
   "execution_count": 19,
   "metadata": {},
   "outputs": [
    {
     "name": "stdout",
     "output_type": "stream",
     "text": [
      "range(0, 10)\n",
      "Size of u:  28\n"
     ]
    }
   ],
   "source": [
    "import sys\n",
    "\n",
    "u = range(10)\n",
    "print(u)\n",
    "# for i in u:\n",
    "#     print(i)\n",
    "print(\"Size of u: \", sys.getsizeof(len(u)))"
   ]
  },
  {
   "cell_type": "code",
   "execution_count": 20,
   "metadata": {},
   "outputs": [
    {
     "name": "stdout",
     "output_type": "stream",
     "text": [
      "[0 1 2 3 4 5 6 7 8 9]\n",
      "Size of u:  28\n"
     ]
    }
   ],
   "source": [
    "v = np.arange(10)\n",
    "print(v)\n",
    "print(\"Size of u: \", sys.getsizeof(len(v)))"
   ]
  },
  {
   "cell_type": "raw",
   "metadata": {},
   "source": [
    "One-dimensional arrays are widely used in numerical computing for tasks such as storing and manipulating sequences of data, performing mathematical operations, and representing signals or time series data. They serve as fundamental building blocks for more complex data structures and algorithms in scientific computing and data analysis"
   ]
  },
  {
   "cell_type": "raw",
   "metadata": {},
   "source": [
    "In Python, a list is a built-in data structure that can hold a collection of items. Lists are ordered, mutable (modifiable), and can contain elements of different data types. Here's a simple example of creating a list"
   ]
  },
  {
   "cell_type": "code",
   "execution_count": 36,
   "metadata": {},
   "outputs": [],
   "source": [
    "my_list = [1, 2, 3, 4, 5]"
   ]
  },
  {
   "cell_type": "raw",
   "metadata": {},
   "source": [
    "We can add, remove, or modify elements in a list, and you can access individual elements using indexing. For example"
   ]
  },
  {
   "cell_type": "code",
   "execution_count": 37,
   "metadata": {},
   "outputs": [
    {
     "name": "stdout",
     "output_type": "stream",
     "text": [
      "1\n",
      "[10, 2, 3, 4, 5]\n",
      "[10, 2, 3, 4, 5, 6]\n",
      "[10, 2, 4, 5, 6]\n"
     ]
    }
   ],
   "source": [
    "# Accessing elements\n",
    "print(my_list[0])  # Output: 1\n",
    "\n",
    "# Modifying elements\n",
    "my_list[0] = 10\n",
    "print(my_list)  # Output: [10, 2, 3, 4, 5]\n",
    "\n",
    "# Adding elements\n",
    "my_list.append(6)\n",
    "print(my_list)  # Output: [10, 2, 3, 4, 5, 6]\n",
    "\n",
    "# Removing elements\n",
    "my_list.remove(3)\n",
    "print(my_list)  # Output: [10, 2, 4, 5, 6]"
   ]
  },
  {
   "cell_type": "raw",
   "metadata": {},
   "source": [
    "NumPy, on the other hand, is a powerful library for numerical computing in Python. It provides support for multi-dimensional arrays (ndarrays) and a wide range of mathematical operations. To convert a Python list to a NumPy array, you can use the numpy.array() function. Here's how:"
   ]
  },
  {
   "cell_type": "code",
   "execution_count": 3,
   "metadata": {},
   "outputs": [
    {
     "name": "stdout",
     "output_type": "stream",
     "text": [
      "[1 2 3 4 5]\n"
     ]
    }
   ],
   "source": [
    "import numpy as np\n",
    "\n",
    "# Create a Python list\n",
    "my_list = [1, 2, 3, 4, 5]\n",
    "\n",
    "# Convert the list to a NumPy array\n",
    "my_array = np.array(my_list)\n",
    "\n",
    "# Print the NumPy array\n",
    "print(my_array)"
   ]
  },
  {
   "cell_type": "code",
   "execution_count": 2,
   "metadata": {},
   "outputs": [
    {
     "data": {
      "text/plain": [
       "[1, 2, 3, 4, 5]"
      ]
     },
     "execution_count": 2,
     "metadata": {},
     "output_type": "execute_result"
    }
   ],
   "source": [
    "vectorAsList = [1, 2, 3, 4, 5]\n",
    "vectorAsList"
   ]
  },
  {
   "cell_type": "code",
   "execution_count": 4,
   "metadata": {},
   "outputs": [
    {
     "data": {
      "text/plain": [
       "array([1, 2, 3, 4, 5])"
      ]
     },
     "execution_count": 4,
     "metadata": {},
     "output_type": "execute_result"
    }
   ],
   "source": [
    "vectorAsArray = np.array(vectorAsList)\n",
    "vectorAsArray"
   ]
  },
  {
   "cell_type": "code",
   "execution_count": 5,
   "metadata": {},
   "outputs": [
    {
     "data": {
      "text/plain": [
       "array([[1, 2, 3, 4, 5]])"
      ]
     },
     "execution_count": 5,
     "metadata": {},
     "output_type": "execute_result"
    }
   ],
   "source": [
    "rowVector = np.array([[1, 2, 3, 4, 5]])\n",
    "rowVector"
   ]
  },
  {
   "cell_type": "code",
   "execution_count": 6,
   "metadata": {},
   "outputs": [
    {
     "data": {
      "text/plain": [
       "array([[1],\n",
       "       [2],\n",
       "       [3],\n",
       "       [4],\n",
       "       [5]])"
      ]
     },
     "execution_count": 6,
     "metadata": {},
     "output_type": "execute_result"
    }
   ],
   "source": [
    "columnVector = np.array([[1], [2], [3], [4], [5]])\n",
    "columnVector"
   ]
  },
  {
   "cell_type": "raw",
   "metadata": {},
   "source": [
    "Now, my_array is a one-dimensional NumPy array containing the same elements as the original Python list. NumPy arrays offer many advantages over Python lists, including faster operations and support for a wide range of mathematical functions"
   ]
  },
  {
   "cell_type": "code",
   "execution_count": 21,
   "metadata": {},
   "outputs": [],
   "source": [
    "scalar = 4"
   ]
  },
  {
   "cell_type": "code",
   "execution_count": 22,
   "metadata": {},
   "outputs": [
    {
     "data": {
      "text/plain": [
       "[1, 2, 3, 4, 5]"
      ]
     },
     "execution_count": 22,
     "metadata": {},
     "output_type": "execute_result"
    }
   ],
   "source": [
    "vectorAsList"
   ]
  },
  {
   "cell_type": "code",
   "execution_count": 24,
   "metadata": {},
   "outputs": [
    {
     "data": {
      "text/plain": [
       "[1, 2, 3, 4, 5, 1, 2, 3, 4, 5, 1, 2, 3, 4, 5, 1, 2, 3, 4, 5]"
      ]
     },
     "execution_count": 24,
     "metadata": {},
     "output_type": "execute_result"
    }
   ],
   "source": [
    "#scalar to list multiplication\n",
    "scalar*vectorAsList"
   ]
  },
  {
   "cell_type": "code",
   "execution_count": 25,
   "metadata": {},
   "outputs": [
    {
     "data": {
      "text/plain": [
       "array([1, 2, 3, 4, 5])"
      ]
     },
     "execution_count": 25,
     "metadata": {},
     "output_type": "execute_result"
    }
   ],
   "source": [
    "vectorAsArray"
   ]
  },
  {
   "cell_type": "code",
   "execution_count": 27,
   "metadata": {},
   "outputs": [
    {
     "data": {
      "text/plain": [
       "array([ 4,  8, 12, 16, 20])"
      ]
     },
     "execution_count": 27,
     "metadata": {},
     "output_type": "execute_result"
    }
   ],
   "source": [
    "#scalar * vector\n",
    "scalar*vectorAsArray"
   ]
  },
  {
   "cell_type": "markdown",
   "metadata": {},
   "source": [
    "<table align=\"left\">\n",
    "    <tr>\n",
    "        <td width=\"6%\">\n",
    "            <img src=\"../images/RA_Logo.png\">\n",
    "        </td>\n",
    "        <td>\n",
    "            <div align=\"left\", style=\"font-size:120%\">\n",
    "                <font color=\"#21618C\">\n",
    "                    <b>1. Write a NumPy program to convert a list of numeric values into a one-dimensional NumPy array</b>\n",
    "                </font>\n",
    "            </div>\n",
    "        </td>\n",
    "    </tr>\n",
    "</table>"
   ]
  },
  {
   "cell_type": "markdown",
   "metadata": {},
   "source": [
    "**Use the list given below: (or create your own list)**<br>\n",
    "\n",
    "list1 = [3.04, 1.65, 5.76, 1.66, 1.54, 4.69, 2.68]"
   ]
  },
  {
   "cell_type": "code",
   "execution_count": 7,
   "metadata": {},
   "outputs": [
    {
     "name": "stdout",
     "output_type": "stream",
     "text": [
      "[3.04, 1.65, 5.76, 1.66, 1.54, 4.69, 2.68]\n",
      "[3.04 1.65 5.76 1.66 1.54 4.69 2.68]\n",
      "<class 'numpy.ndarray'>\n"
     ]
    }
   ],
   "source": [
    "list1 = [3.04, 1.65, 5.76, 1.66, 1.54, 4.69, 2.68]\n",
    "print(list1)\n",
    "list1_array = np.array(list1)\n",
    "print(list1_array)\n",
    "print(type(list1_array))"
   ]
  },
  {
   "cell_type": "markdown",
   "metadata": {},
   "source": [
    "<table align=\"left\">\n",
    "    <tr>\n",
    "        <td width=\"6%\">\n",
    "            <img src=\"../images/RA_Logo.png\">\n",
    "        </td>\n",
    "        <td>\n",
    "            <div align=\"left\", style=\"font-size:120%\">\n",
    "                <font color=\"#21618C\">\n",
    "                    <b>2. Create a 1D array of weights of 10 students and retrieve all the weights greater than 68</b>\n",
    "                </font>\n",
    "            </div>\n",
    "        </td>\n",
    "    </tr>\n",
    "</table>"
   ]
  },
  {
   "cell_type": "markdown",
   "metadata": {},
   "source": [
    "**Use the weights given below: (or create your own list)**\n",
    "\n",
    "weights = [74.2, 85, 74, 67.9, 52, 70.5, 86, 51.8, 64, 82]"
   ]
  },
  {
   "cell_type": "code",
   "execution_count": 40,
   "metadata": {},
   "outputs": [
    {
     "name": "stdout",
     "output_type": "stream",
     "text": [
      "[74.2 85.  74.  70.5 86.  82. ]\n"
     ]
    }
   ],
   "source": [
    "# type your code here\n",
    "weights = [74.2, 85, 74, 67.9, 52, 70.5, 86, 51.8, 64, 82]\n",
    "weights_array = np.array(weights)\n",
    "weights_array = weights_array[weights_array>68]\n",
    "print(weights_array)"
   ]
  },
  {
   "cell_type": "raw",
   "metadata": {},
   "source": [
    "In NumPy, np.random.seed(42) is used to set the seed for the random number generator. \n",
    "\n",
    "This function ensures that the random numbers generated by NumPy functions are reproducible, meaning they will be the same every time you run your code with the same seed value"
   ]
  },
  {
   "cell_type": "raw",
   "metadata": {},
   "source": [
    "Here's how it works:\n",
    "\n",
    "When you call np.random.seed(42), you are initializing the random number generator with a specific seed value, in this case, 42.\n",
    "\n",
    "After setting the seed, any subsequent calls to random number generation functions in NumPy will produce the same sequence of random numbers every time you run your code, as long as you use the same seed value.\n",
    "\n",
    "This is particularly useful when you want to ensure reproducibility in your experiments or simulations. \n",
    "\n",
    "By setting the seed, you can make sure that your results are consistent across different runs of your code, which can be important for debugging, testing, and sharing your work with others."
   ]
  },
  {
   "cell_type": "code",
   "execution_count": 99,
   "metadata": {},
   "outputs": [
    {
     "name": "stdout",
     "output_type": "stream",
     "text": [
      "Random numbers: [51 92 14 71 60]\n"
     ]
    }
   ],
   "source": [
    "#Here's an example to illustrate:\n",
    "\n",
    "import numpy as np\n",
    "\n",
    "# Set the seed\n",
    "np.random.seed(42)\n",
    "\n",
    "# Generate some random numbers\n",
    "random_numbers = np.random.randint(0, 100, 5)\n",
    "\n",
    "print(\"Random numbers:\", random_numbers)"
   ]
  },
  {
   "cell_type": "code",
   "execution_count": 107,
   "metadata": {},
   "outputs": [
    {
     "data": {
      "text/plain": [
       "array([51, 92, 14])"
      ]
     },
     "execution_count": 107,
     "metadata": {},
     "output_type": "execute_result"
    }
   ],
   "source": [
    "# Set the seed\n",
    "np.random.seed(42)\n",
    "np.random.randint(0, 100, 3)"
   ]
  },
  {
   "cell_type": "raw",
   "metadata": {},
   "source": [
    "If you run this code multiple times, you will always get the same sequence of random numbers because the seed is set to 42. If you were to remove the np.random.seed(42) line, you would get different random numbers each time you run the code."
   ]
  },
  {
   "cell_type": "code",
   "execution_count": 46,
   "metadata": {},
   "outputs": [
    {
     "name": "stdout",
     "output_type": "stream",
     "text": [
      "Random numbers: [ 1 63 59 20 32]\n"
     ]
    }
   ],
   "source": [
    "#Here's an example to illustrate by not having seed - execute multiple times the current cell to see different values everytime:\n",
    "\n",
    "import numpy as np\n",
    "\n",
    "# Set the seed\n",
    "#np.random.seed(42)\n",
    "\n",
    "# Generate some random numbers\n",
    "random_numbers = np.random.randint(0, 100, 5)\n",
    "\n",
    "print(\"Random numbers:\", random_numbers)"
   ]
  },
  {
   "cell_type": "raw",
   "metadata": {},
   "source": [
    "np.random.randint is a NumPy function used to generate random integers within a specified range. Here's how it works:"
   ]
  },
  {
   "cell_type": "code",
   "execution_count": 47,
   "metadata": {},
   "outputs": [
    {
     "name": "stdout",
     "output_type": "stream",
     "text": [
      "Random integer between 0 and 9: 9\n",
      "Random integer between 5 and 10: 10\n",
      "Array of random integers between 1 and 100:\n",
      "[[89 49 91]\n",
      " [59 42 92]\n",
      " [60 80 15]]\n"
     ]
    }
   ],
   "source": [
    "import numpy as np\n",
    "\n",
    "# Generate a random integer between 0 and 9\n",
    "random_int = np.random.randint(10)\n",
    "print(\"Random integer between 0 and 9:\", random_int)\n",
    "\n",
    "# Generate a random integer between 5 and 10\n",
    "random_int_range = np.random.randint(5, 11)\n",
    "print(\"Random integer between 5 and 10:\", random_int_range)\n",
    "\n",
    "# Generate an array of random integers between 1 and 100 with shape (3, 3)\n",
    "random_array = np.random.randint(1, 101, size=(3, 3))\n",
    "print(\"Array of random integers between 1 and 100:\")\n",
    "print(random_array)"
   ]
  },
  {
   "cell_type": "raw",
   "metadata": {},
   "source": [
    "In this example:\n",
    "\n",
    "np.random.randint(10) generates a random integer between 0 and 9.\n",
    "\n",
    "np.random.randint(5, 11) generates a random integer between 5 (inclusive) and 11 (exclusive), i.e., between 5 and 10.\n",
    "\n",
    "np.random.randint(1, 101, size=(3, 3)) generates an array of random integers between 1 and 100 with shape (3, 3)."
   ]
  },
  {
   "cell_type": "markdown",
   "metadata": {},
   "source": [
    "<table align=\"left\">\n",
    "    <tr>\n",
    "        <td width=\"6%\">\n",
    "            <img src=\"../images/RA_Logo.png\">\n",
    "        </td>\n",
    "        <td>\n",
    "            <div align=\"left\", style=\"font-size:120%\">\n",
    "                <font color=\"#21618C\">\n",
    "                    <b>3. Write a code to generate 10 random integers between 20 to 40 (Is it possible to generate same random numbers everytime? If yes, describe the function)\n",
    "                    </b>\n",
    "                </font>\n",
    "            </div>\n",
    "        </td>\n",
    "    </tr>\n",
    "</table>"
   ]
  },
  {
   "cell_type": "code",
   "execution_count": 34,
   "metadata": {},
   "outputs": [
    {
     "name": "stdout",
     "output_type": "stream",
     "text": [
      "<class 'numpy.ndarray'>\n",
      "(10,)\n",
      "[26 39 34 30 27 26 38 30 30 23]\n"
     ]
    }
   ],
   "source": [
    "# type your code here\n",
    "np.random.seed(42)\n",
    "\n",
    "n10 = np.random.randint(low=20,high=40,size=10)\n",
    "print(type(n10))\n",
    "print(n10.shape)\n",
    "print(n10)\n"
   ]
  },
  {
   "cell_type": "markdown",
   "metadata": {},
   "source": [
    "<table align=\"left\">\n",
    "    <tr>\n",
    "        <td width=\"6%\">\n",
    "            <img src=\"../images/RA_Logo.png\">\n",
    "        </td>\n",
    "        <td>\n",
    "            <div align=\"left\", style=\"font-size:120%\">\n",
    "                <font color=\"#21618C\">\n",
    "                    <b>4. Write a program to get the fifth power of the first five positive integers\n",
    "                    </b>\n",
    "                </font>\n",
    "            </div>\n",
    "        </td>\n",
    "    </tr>\n",
    "</table>"
   ]
  },
  {
   "cell_type": "code",
   "execution_count": 4,
   "metadata": {},
   "outputs": [
    {
     "name": "stdout",
     "output_type": "stream",
     "text": [
      "[26 39 34 30 27 26 38 30 30 23]\n",
      "[26 39 34 30 27]\n",
      "[11881376 90224199 45435424 24300000 14348907]\n"
     ]
    }
   ],
   "source": [
    "# type your code here\n",
    "np.random.seed(42)\n",
    "\n",
    "n10 = np.random.randint(low=20,high=40,size=10)\n",
    "print(n10)\n",
    "n5 = n10[0:5]\n",
    "print(n5)\n",
    "n5 = np.power(n5, 5)\n",
    "print(n5)"
   ]
  },
  {
   "cell_type": "raw",
   "metadata": {},
   "source": [
    "1. Help me with concise and efficient way to create an array of even numbers between 50 and 100 using numpy's arange function with a step of 2. \n",
    "\n",
    "Here's the code snippet:"
   ]
  },
  {
   "cell_type": "code",
   "execution_count": 48,
   "metadata": {},
   "outputs": [
    {
     "name": "stdout",
     "output_type": "stream",
     "text": [
      "Array of even numbers between 50 and 100:\n",
      "[ 50  52  54  56  58  60  62  64  66  68  70  72  74  76  78  80  82  84\n",
      "  86  88  90  92  94  96  98 100]\n"
     ]
    }
   ],
   "source": [
    "import numpy as np\n",
    "\n",
    "# Create an array of even numbers between 50 and 100\n",
    "even_numbers = np.arange(50, 101, 2)\n",
    "\n",
    "print(\"Array of even numbers between 50 and 100:\")\n",
    "print(even_numbers)"
   ]
  },
  {
   "cell_type": "raw",
   "metadata": {},
   "source": [
    "2. Using np.arange and filtering:\n",
    "\n",
    "Here's the code snippet:"
   ]
  },
  {
   "cell_type": "code",
   "execution_count": 49,
   "metadata": {},
   "outputs": [
    {
     "name": "stdout",
     "output_type": "stream",
     "text": [
      "Array of even numbers between 50 and 100:\n",
      "[ 50  52  54  56  58  60  62  64  66  68  70  72  74  76  78  80  82  84\n",
      "  86  88  90  92  94  96  98 100]\n"
     ]
    }
   ],
   "source": [
    "import numpy as np\n",
    "\n",
    "# Create an array of numbers from 50 to 100\n",
    "numbers = np.arange(50, 101)\n",
    "\n",
    "# Filter out the even numbers\n",
    "even_numbers = numbers[numbers % 2 == 0]\n",
    "\n",
    "print(\"Array of even numbers between 50 and 100:\")\n",
    "print(even_numbers)"
   ]
  },
  {
   "cell_type": "raw",
   "metadata": {},
   "source": [
    "3. Using np.linspace and filtering:\n",
    "    \n",
    "Here's the code snippet:"
   ]
  },
  {
   "cell_type": "code",
   "execution_count": 50,
   "metadata": {},
   "outputs": [
    {
     "name": "stdout",
     "output_type": "stream",
     "text": [
      "Array of even numbers between 50 and 100:\n",
      "[ 50.  52.  54.  56.  58.  60.  62.  64.  66.  68.  70.  72.  74.  76.\n",
      "  78.  80.  82.  84.  86.  88.  90.  92.  94.  96.  98. 100.]\n"
     ]
    }
   ],
   "source": [
    "import numpy as np\n",
    "\n",
    "# Create an array of numbers from 50 to 100 with a step of 1\n",
    "numbers = np.linspace(50, 100, 51)\n",
    "\n",
    "# Filter out the even numbers\n",
    "even_numbers = numbers[numbers % 2 == 0]\n",
    "\n",
    "print(\"Array of even numbers between 50 and 100:\")\n",
    "print(even_numbers)"
   ]
  },
  {
   "cell_type": "raw",
   "metadata": {},
   "source": [
    "4. Using list comprehension and np.array:"
   ]
  },
  {
   "cell_type": "code",
   "execution_count": 51,
   "metadata": {},
   "outputs": [
    {
     "name": "stdout",
     "output_type": "stream",
     "text": [
      "Array of even numbers between 50 and 100:\n",
      "[ 50  52  54  56  58  60  62  64  66  68  70  72  74  76  78  80  82  84\n",
      "  86  88  90  92  94  96  98 100]\n"
     ]
    }
   ],
   "source": [
    "import numpy as np\n",
    "\n",
    "# Create a list of even numbers between 50 and 100\n",
    "even_numbers_list = [num for num in range(50, 101) if num % 2 == 0]\n",
    "\n",
    "# Convert the list to a numpy array\n",
    "even_numbers = np.array(even_numbers_list)\n",
    "\n",
    "print(\"Array of even numbers between 50 and 100:\")\n",
    "print(even_numbers)"
   ]
  },
  {
   "cell_type": "markdown",
   "metadata": {},
   "source": [
    "<table align=\"left\">\n",
    "    <tr>\n",
    "        <td width=\"6%\">\n",
    "            <img src=\"../images/RA_Logo.png\">\n",
    "        </td>\n",
    "        <td>\n",
    "            <div align=\"left\", style=\"font-size:120%\">\n",
    "                <font color=\"#21618C\">\n",
    "                    <b>5. Write a program to create an array of all the odd integers from 50 to 100 \n",
    "                    </b>\n",
    "                </font>\n",
    "            </div>\n",
    "        </td>\n",
    "    </tr>\n",
    "</table>"
   ]
  },
  {
   "cell_type": "code",
   "execution_count": 5,
   "metadata": {},
   "outputs": [
    {
     "name": "stdout",
     "output_type": "stream",
     "text": [
      "[51 53 55 57 59 61 63 65 67 69 71 73 75 77 79 81 83 85 87 89 91 93 95 97\n",
      " 99]\n"
     ]
    }
   ],
   "source": [
    "# type your code here\n",
    "\n",
    "n11 = np.arange(50, 100)\n",
    "n11 = n11[n11%2 == 1]\n",
    "print(n11)"
   ]
  },
  {
   "cell_type": "markdown",
   "metadata": {},
   "source": [
    "<table align=\"left\">\n",
    "    <tr>\n",
    "        <td width=\"6%\">\n",
    "            <img src=\"../images/RA_Logo.png\">\n",
    "        </td>\n",
    "        <td>\n",
    "            <div align=\"left\", style=\"font-size:120%\">\n",
    "                <font color=\"#21618C\">\n",
    "                    <b>6. Write a program to calculate the sum of each column </b>\n",
    "                </font>\n",
    "            </div>\n",
    "        </td>\n",
    "    </tr>\n",
    "</table>"
   ]
  },
  {
   "cell_type": "markdown",
   "metadata": {},
   "source": [
    "**Use the array given below: (or create your own array)**\n",
    "\n",
    "A = [[1, 4, 8], [5, 7, 3], [9, 14, 2]]"
   ]
  },
  {
   "cell_type": "code",
   "execution_count": 52,
   "metadata": {},
   "outputs": [
    {
     "name": "stdout",
     "output_type": "stream",
     "text": [
      "[[ 1  4  8]\n",
      " [ 5  7  3]\n",
      " [ 9 14  2]]\n",
      "The sum of each column [15 25 13]\n"
     ]
    }
   ],
   "source": [
    "# type your code here\n",
    "\n",
    "A = [[1, 4, 8], [5, 7, 3], [9, 14, 2]]\n",
    "\n",
    "n11_arr = np.array(A)\n",
    "print(n11_arr)\n",
    "n11_arr_sum = np.sum(n11_arr, axis = 0)\n",
    "print('The sum of each column', n11_arr_sum)"
   ]
  },
  {
   "cell_type": "code",
   "execution_count": null,
   "metadata": {},
   "outputs": [],
   "source": []
  },
  {
   "cell_type": "markdown",
   "metadata": {},
   "source": [
    "<table align=\"left\">\n",
    "    <tr>\n",
    "        <td width=\"6%\">\n",
    "            <img src=\"../images/RA_Logo.png\">\n",
    "        </td>\n",
    "        <td>\n",
    "            <div align=\"left\", style=\"font-size:120%\">\n",
    "                <font color=\"#21618C\">\n",
    "                    <b>7. Write a code to get the element-wise remainder of an array after division by 8  \n",
    "                    </b>\n",
    "                </font>\n",
    "            </div>\n",
    "        </td>\n",
    "    </tr>\n",
    "</table>"
   ]
  },
  {
   "cell_type": "markdown",
   "metadata": {},
   "source": [
    "**Use the list given below:**<br>\n",
    "    \n",
    "num = [42, 87, 90, 14, 32, 75, 61, 80, 92]"
   ]
  },
  {
   "cell_type": "code",
   "execution_count": 8,
   "metadata": {},
   "outputs": [
    {
     "name": "stdout",
     "output_type": "stream",
     "text": [
      "[42 87 90 14 32 75 61 80 92]\n",
      "[2 7 2 6 0 3 5 0 4]\n"
     ]
    }
   ],
   "source": [
    "# type your code here\n",
    "\n",
    "num = [42, 87, 90, 14, 32, 75, 61, 80, 92]\n",
    "num_array_rem = np.array(num)\n",
    "print(num_array_rem)\n",
    "num_array_rem = np.remainder(num_array_rem, 8)\n",
    "print(num_array_rem)\n",
    "\n"
   ]
  },
  {
   "cell_type": "markdown",
   "metadata": {},
   "source": [
    "<a id=\"2D\"> </a>\n",
    "## 2. Two Dimensional Array"
   ]
  },
  {
   "cell_type": "markdown",
   "metadata": {},
   "source": [
    "<table align=\"left\">\n",
    "    <tr>\n",
    "        <td width=\"6%\">\n",
    "            <img src=\"../images/RA_Logo.png\">\n",
    "        </td>\n",
    "        <td>\n",
    "            <div align=\"left\", style=\"font-size:120%\">\n",
    "                <font color=\"#21618C\">\n",
    "                    <b>8. Create a 2D numpy array from a 1D array of 20 elements of your choice. Further, subset the first 5 elements from the second element of a resulting 2D array \n",
    "                    </b>\n",
    "                </font>\n",
    "            </div>\n",
    "        </td>\n",
    "    </tr>\n",
    "</table>"
   ]
  },
  {
   "cell_type": "code",
   "execution_count": 9,
   "metadata": {},
   "outputs": [],
   "source": [
    "# type your code here"
   ]
  },
  {
   "cell_type": "code",
   "execution_count": 10,
   "metadata": {},
   "outputs": [
    {
     "name": "stdout",
     "output_type": "stream",
     "text": [
      "[[ 0  1  2  3  4]\n",
      " [ 5  6  7  8  9]\n",
      " [10 11 12 13 14]\n",
      " [15 16 17 18 19]]\n",
      "[1 2 3 4 5]\n"
     ]
    }
   ],
   "source": [
    "array_2D = np.arange(0,20).reshape(4,5)\n",
    "print(array_2D)\n",
    "\n",
    "b = array_2D.flatten()\n",
    "print(b[1:6])"
   ]
  },
  {
   "cell_type": "markdown",
   "metadata": {},
   "source": [
    "<table align=\"left\">\n",
    "    <tr>\n",
    "        <td width=\"6%\">\n",
    "            <img src=\"q../images/RA_Logo.png\">\n",
    "        </td>\n",
    "        <td>\n",
    "            <div align=\"left\", style=\"font-size:120%\">\n",
    "                <font color=\"#21618C\">\n",
    "                    <b>9. Write a program to find common values between two arrays \n",
    "                    </b>\n",
    "                </font>\n",
    "            </div>\n",
    "        </td>\n",
    "    </tr>\n",
    "</table>"
   ]
  },
  {
   "cell_type": "markdown",
   "metadata": {},
   "source": [
    "**Use the lists given below:**<br>\n",
    "\n",
    "array1 = [10, 30, 50, 60, 90]\n",
    "\n",
    "array2 = [50, 20, 80, 125, 10, 70]"
   ]
  },
  {
   "cell_type": "code",
   "execution_count": 11,
   "metadata": {},
   "outputs": [],
   "source": [
    "# type your code here"
   ]
  },
  {
   "cell_type": "code",
   "execution_count": 12,
   "metadata": {},
   "outputs": [
    {
     "name": "stdout",
     "output_type": "stream",
     "text": [
      "[10 50]\n"
     ]
    }
   ],
   "source": [
    "array1 = [10, 30, 50, 60, 90]\n",
    "array2 = [50, 20, 80, 125, 10, 70]\n",
    "\n",
    "np.intersect1d(array1, array2)\n",
    "print(np.intersect1d(array1, array2))\n"
   ]
  },
  {
   "cell_type": "markdown",
   "metadata": {},
   "source": [
    "<table align=\"left\">\n",
    "    <tr>\n",
    "        <td width=\"6%\">\n",
    "            <img src=\"../images/RA_Logo.png\">\n",
    "        </td>\n",
    "        <td>\n",
    "            <div align=\"left\", style=\"font-size:120%\">\n",
    "                <font color=\"#21618C\">\n",
    "                    <b>10. Write a program to find BMI of the patients whose height and weight is provided in the list given below \n",
    "                    </b>\n",
    "                </font>\n",
    "            </div>\n",
    "        </td>\n",
    "    </tr>\n",
    "</table>"
   ]
  },
  {
   "cell_type": "markdown",
   "metadata": {},
   "source": [
    "**Use the lists given below:**<br>\n",
    "\n",
    "list of weights (in kg)\n",
    "weights = [57, 69, 54, 65 ,71, 62, 56]\n",
    "\n",
    "list of heights (in m)<br>\n",
    "heights = [1.59, 1.75, 1.66, 1.74, 1.64, 1.72, 1.53] "
   ]
  },
  {
   "cell_type": "code",
   "execution_count": 13,
   "metadata": {},
   "outputs": [
    {
     "name": "stdout",
     "output_type": "stream",
     "text": [
      "[22.54657648 22.53061224 19.59645812 21.46915048 26.39797739 20.9572742\n",
      " 23.922423  ]\n",
      "[22.55 22.53 19.6  21.47 26.4  20.96 23.92]\n"
     ]
    }
   ],
   "source": [
    "# type your code here\n",
    "weights = [57, 69, 54, 65 ,71, 62, 56]\n",
    "heights = [1.59, 1.75, 1.66, 1.74, 1.64, 1.72, 1.53]\n",
    "np_weights = np.array(weights)\n",
    "np_heights = np.array(heights)\n",
    "bmi = np_weights/np_heights**2\n",
    "print(bmi)\n",
    "bmi = np.round(bmi,2)\n",
    "print(bmi)"
   ]
  },
  {
   "cell_type": "code",
   "execution_count": null,
   "metadata": {},
   "outputs": [],
   "source": []
  },
  {
   "cell_type": "markdown",
   "metadata": {},
   "source": [
    "<table align=\"left\">\n",
    "    <tr>\n",
    "        <td width=\"6%\">\n",
    "            <img src=\"../images/RA_Logo.png\">\n",
    "        </td>\n",
    "        <td>\n",
    "            <div align=\"left\", style=\"font-size:120%\">\n",
    "                <font color=\"#21618C\">\n",
    "                    <b>11. Write a program to add a new column ([5,7]) at the last position in the array given below \n",
    "                    </b>\n",
    "                </font>\n",
    "            </div>\n",
    "        </td>\n",
    "    </tr>\n",
    "</table>"
   ]
  },
  {
   "cell_type": "markdown",
   "metadata": {},
   "source": [
    "**Use the array given below:**\n",
    "\n",
    "array1 = [[[3, 4], [8, 2],[5, 9]]]"
   ]
  },
  {
   "cell_type": "code",
   "execution_count": 14,
   "metadata": {},
   "outputs": [],
   "source": [
    "# type your code here"
   ]
  },
  {
   "cell_type": "code",
   "execution_count": 15,
   "metadata": {},
   "outputs": [
    {
     "name": "stdout",
     "output_type": "stream",
     "text": [
      "(1, 3, 2)\n",
      "[[[3 4]\n",
      "  [8 2]\n",
      "  [5 9]]]\n",
      "(1, 1, 2)\n",
      "[[[5 7]]]\n",
      "[[[3 4]\n",
      "  [8 2]\n",
      "  [5 9]\n",
      "  [5 7]]]\n"
     ]
    }
   ],
   "source": [
    "array1 = [[[3, 4], [8, 2],[5, 9]]]\n",
    "a = np.array(array1)\n",
    "print(a.shape)\n",
    "print(a)\n",
    "\n",
    "b = np.array([[[5,7]]])\n",
    "print(b.shape)\n",
    "print(b)\n",
    "\n",
    "new_array1 = np.append(a, b, axis = 1)\n",
    "print(new_array1)\n"
   ]
  },
  {
   "cell_type": "markdown",
   "metadata": {},
   "source": [
    "<table align=\"left\">\n",
    "    <tr>\n",
    "        <td width=\"6%\">\n",
    "            <img src=\"question_icon.png\">\n",
    "        </td>\n",
    "        <td>\n",
    "            <div align=\"left\", style=\"font-size:120%\">\n",
    "                <font color=\"#21618C\">\n",
    "                    <b>12. Write a code to print the identity matrix of order 5</b>\n",
    "                </font>\n",
    "            </div>\n",
    "        </td>\n",
    "    </tr>\n",
    "</table>"
   ]
  },
  {
   "cell_type": "code",
   "execution_count": 16,
   "metadata": {},
   "outputs": [
    {
     "name": "stdout",
     "output_type": "stream",
     "text": [
      "[[1. 0. 0. 0. 0.]\n",
      " [0. 1. 0. 0. 0.]\n",
      " [0. 0. 1. 0. 0.]\n",
      " [0. 0. 0. 1. 0.]\n",
      " [0. 0. 0. 0. 1.]]\n"
     ]
    }
   ],
   "source": [
    "# type your code here\n",
    "import numpy as np\n",
    "a = np.identity(5)\n",
    "print(a)\n",
    "\n",
    "\n"
   ]
  },
  {
   "cell_type": "markdown",
   "metadata": {},
   "source": [
    "<table align=\"left\">\n",
    "    <tr>\n",
    "        <td width=\"6%\">\n",
    "            <img src=\"../images/RA_Logo.png\">\n",
    "        </td>\n",
    "        <td>\n",
    "            <div align=\"left\", style=\"font-size:120%\">\n",
    "                <font color=\"#21618C\">\n",
    "                    <b>13. Write a program to transpose a matrix \n",
    "                    </b>\n",
    "                </font>\n",
    "            </div>\n",
    "        </td>\n",
    "    </tr>\n",
    "</table>"
   ]
  },
  {
   "cell_type": "markdown",
   "metadata": {},
   "source": [
    "**Use the matrix given below:**\n",
    "    \n",
    "M = [[15, 17, 45, 56], [7, 42, 15, 63], [54, 3, 61, 41], [0, 87, 16, 20]]"
   ]
  },
  {
   "cell_type": "code",
   "execution_count": 17,
   "metadata": {},
   "outputs": [
    {
     "name": "stdout",
     "output_type": "stream",
     "text": [
      "(4, 4)\n",
      "[[15 17 45 56]\n",
      " [ 7 42 15 63]\n",
      " [54  3 61 41]\n",
      " [ 0 87 16 20]]\n",
      "Transpose\n",
      "[[15  7 54  0]\n",
      " [17 42  3 87]\n",
      " [45 15 61 16]\n",
      " [56 63 41 20]]\n"
     ]
    }
   ],
   "source": [
    "# type your code here\n",
    "M = [[15, 17, 45, 56], [7, 42, 15, 63], [54, 3, 61, 41], [0, 87, 16, 20]]\n",
    "\n",
    "np_M = np.array(M)\n",
    "print(np_M.shape)\n",
    "print(np_M)\n",
    "np_M_T = np_M.transpose()\n",
    "print('Transpose')\n",
    "print(np_M_T)\n",
    "\n",
    "\n",
    "\n"
   ]
  },
  {
   "cell_type": "code",
   "execution_count": null,
   "metadata": {},
   "outputs": [],
   "source": [
    "<a id=\"Stacking\"> </a>\n",
    "## 3. Stacking"
   ]
  },
  {
   "cell_type": "markdown",
   "metadata": {},
   "source": [
    "<table align=\"left\">\n",
    "    <tr>\n",
    "        <td width=\"6%\">\n",
    "            <img src=\"../images/RA_Logo.png\">\n",
    "        </td>\n",
    "        <td>\n",
    "            <div align=\"left\", style=\"font-size:120%\">\n",
    "                <font color=\"#21618C\">\n",
    "                    <b>14. Write a program to combine the two arrays vertically</b>\n",
    "                </font>\n",
    "            </div>\n",
    "        </td>\n",
    "    </tr>\n",
    "</table>"
   ]
  },
  {
   "cell_type": "markdown",
   "metadata": {},
   "source": [
    "**Use the arrays given below: (or create your own array)**<br>\n",
    "\n",
    "A1 = [[5, 9], [7, 6]]\n",
    "\n",
    "A2 = [[8,-7], [0,4]]\n",
    "\n",
    "Combine the array A2 with A1"
   ]
  },
  {
   "cell_type": "code",
   "execution_count": 20,
   "metadata": {},
   "outputs": [
    {
     "name": "stdout",
     "output_type": "stream",
     "text": [
      "[[ 8 -7]\n",
      " [ 0  4]\n",
      " [ 5  9]\n",
      " [ 7  6]]\n"
     ]
    }
   ],
   "source": [
    "# type your code here\n",
    "A1 = [[5, 9], [7, 6]]\n",
    "A2 = [[8,-7], [0,4]]\n",
    "\n",
    "print(np.vstack((A2, A1)))\n",
    "\n",
    "\n",
    "\n"
   ]
  },
  {
   "cell_type": "code",
   "execution_count": null,
   "metadata": {},
   "outputs": [],
   "source": []
  },
  {
   "cell_type": "markdown",
   "metadata": {},
   "source": [
    "<table align=\"left\">\n",
    "    <tr>\n",
    "        <td width=\"6%\">\n",
    "            <img src=\"../images/RA_Logo.png\">\n",
    "        </td>\n",
    "        <td>\n",
    "            <div align=\"left\", style=\"font-size:120%\">\n",
    "                <font color=\"#21618C\">\n",
    "                    <b>15. Write a code to combine the two arrays horizontally</b>\n",
    "                </font>\n",
    "            </div>\n",
    "        </td>\n",
    "    </tr>\n",
    "</table>"
   ]
  },
  {
   "cell_type": "markdown",
   "metadata": {},
   "source": [
    "**Use the arrays given below: (or create your own array)**\n",
    "\n",
    "A1 = [[-81, 75, 40], [27, 67, 52]]\n",
    "\n",
    "A2 = [[15, 54], [39, 56]]\n",
    "\n",
    "Combine the array A2 with A1"
   ]
  },
  {
   "cell_type": "code",
   "execution_count": 21,
   "metadata": {},
   "outputs": [
    {
     "name": "stdout",
     "output_type": "stream",
     "text": [
      "[[ 15  54 -81  75  40]\n",
      " [ 39  56  27  67  52]]\n"
     ]
    }
   ],
   "source": [
    "# type your code here\n",
    "\n",
    "A1 = [[-81, 75, 40], [27, 67, 52]]\n",
    "A2 = [[15, 54], [39, 56]]\n",
    "\n",
    "print(np.hstack((A2, A1)))\n",
    "\n",
    "\n"
   ]
  },
  {
   "cell_type": "markdown",
   "metadata": {},
   "source": [
    "<a id=\"Splitting\"> </a>\n",
    "## 4. Splitting"
   ]
  },
  {
   "cell_type": "markdown",
   "metadata": {},
   "source": [
    "<table align=\"left\">\n",
    "    <tr>\n",
    "        <td width=\"6%\">\n",
    "            <img src=\"../images/RA_Logo.png\">\n",
    "        </td>\n",
    "        <td>\n",
    "            <div align=\"left\", style=\"font-size:120%\">\n",
    "                <font color=\"#21618C\">\n",
    "                    <b>16. Write a code to divide the array into three sub-arrays containing an\n",
    "                       equal number of rows</b>\n",
    "                </font>\n",
    "            </div>\n",
    "        </td>\n",
    "    </tr>\n",
    "</table>"
   ]
  },
  {
   "cell_type": "markdown",
   "metadata": {},
   "source": [
    "**Use the array given below:**<br>\n",
    "\n",
    "A = [[4, 7], [2, -3], [8, 1], [0, 9], [5,-1], [8, 3]]"
   ]
  },
  {
   "cell_type": "code",
   "execution_count": 22,
   "metadata": {},
   "outputs": [
    {
     "name": "stdout",
     "output_type": "stream",
     "text": [
      "[array([[ 4,  7],\n",
      "       [ 2, -3]]), array([[8, 1],\n",
      "       [0, 9]]), array([[ 5, -1],\n",
      "       [ 8,  3]])]\n"
     ]
    }
   ],
   "source": [
    "# type your code here\n",
    "A = [[4, 7], [2, -3], [8, 1], [0, 9], [5,-1], [8, 3]]\n",
    "np_A = np.array(A)\n",
    "b = np.vsplit(np_A,3)\n",
    "print(b)\n",
    "\n",
    "\n"
   ]
  },
  {
   "cell_type": "code",
   "execution_count": null,
   "metadata": {},
   "outputs": [],
   "source": []
  },
  {
   "cell_type": "markdown",
   "metadata": {},
   "source": [
    "<table align=\"left\">\n",
    "    <tr>\n",
    "        <td width=\"6%\">\n",
    "            <img src=\"../images/RA_Logo.png\">\n",
    "        </td>\n",
    "        <td>\n",
    "            <div align=\"left\", style=\"font-size:120%\">\n",
    "                <font color=\"#21618C\">\n",
    "                    <b>17. Write a program to divide the array into two sub-arrays containing an equal number of columns\n",
    "                    </b>\n",
    "                </font>\n",
    "            </div>\n",
    "        </td>\n",
    "    </tr>\n",
    "</table>"
   ]
  },
  {
   "cell_type": "markdown",
   "metadata": {},
   "source": [
    "**Use the array given below:**\n",
    "\n",
    "B = [[8, 7, 0, 9], [2, -3, 5, 10], [8, 5, -1,3]]"
   ]
  },
  {
   "cell_type": "code",
   "execution_count": 23,
   "metadata": {},
   "outputs": [
    {
     "name": "stdout",
     "output_type": "stream",
     "text": [
      "[array([[ 8,  7],\n",
      "       [ 2, -3],\n",
      "       [ 8,  5]]), array([[ 0,  9],\n",
      "       [ 5, 10],\n",
      "       [-1,  3]])]\n"
     ]
    }
   ],
   "source": [
    "# type your code here\n",
    "\n",
    "B = [[8, 7, 0, 9], [2, -3, 5, 10], [8, 5, -1,3]]\n",
    "np_B=np.array(B)\n",
    "b = np.hsplit(np_B,2)\n",
    "print(b)\n"
   ]
  },
  {
   "cell_type": "markdown",
   "metadata": {},
   "source": [
    "<a id=\"loop\"> </a>\n",
    "## 5. For Loop"
   ]
  },
  {
   "cell_type": "markdown",
   "metadata": {},
   "source": [
    "<table align=\"left\">\n",
    "    <tr>\n",
    "        <td width=\"6%\">\n",
    "            <img src=\"../images/RA_Logo.png\">\n",
    "        </td>\n",
    "        <td>\n",
    "            <div align=\"left\", style=\"font-size:120%\">\n",
    "                <font color=\"#21618C\">\n",
    "                    <b>18. Write a program to perform one-one mapping of the two lists</b>\n",
    "                </font>\n",
    "            </div>\n",
    "        </td>\n",
    "    </tr>\n",
    "</table>"
   ]
  },
  {
   "cell_type": "markdown",
   "metadata": {},
   "source": [
    "**Use the lists given below: (or create your own lists)**<br>\n",
    "\n",
    "L1 = [45, 67, 56, 71, 54, 62, 56]\n",
    "\n",
    "L2 = [21, 52, 64, 10, 49, 74, 26]"
   ]
  },
  {
   "cell_type": "code",
   "execution_count": 24,
   "metadata": {},
   "outputs": [
    {
     "name": "stdout",
     "output_type": "stream",
     "text": [
      "[(45, 21), (67, 52), (56, 64), (71, 10), (54, 49), (62, 74), (56, 26)]\n",
      "(45, 21)\n",
      "(67, 52)\n",
      "(56, 64)\n",
      "(71, 10)\n",
      "(54, 49)\n",
      "(62, 74)\n",
      "(56, 26)\n"
     ]
    }
   ],
   "source": [
    "# type your code here\n",
    "\n",
    "import numpy as np\n",
    "\n",
    "\n",
    "L1 = [45, 67, 56, 71, 54, 62, 56]\n",
    "L2 = [21, 52, 64, 10, 49, 74, 26]\n",
    "\n",
    "np_L1 = np.array(L1)\n",
    "np_L2 = np.array(L2)\n",
    "\n",
    "mapping_list = list(zip(np_L1, np_L2))\n",
    "\n",
    "print(mapping_list)\n",
    "for items in mapping_list:\n",
    "    print(items)\n",
    "\n"
   ]
  },
  {
   "cell_type": "markdown",
   "metadata": {},
   "source": [
    "<table align=\"left\">\n",
    "    <tr>\n",
    "        <td width=\"6%\">\n",
    "            <img src=\"../images/RA_Logo.png\">\n",
    "        </td>\n",
    "        <td>\n",
    "            <div align=\"left\", style=\"font-size:120%\">\n",
    "                <font color=\"#21618C\">\n",
    "                    <b>19. Define a for loop to apply the function (2x-1)/(x+5) on every element of an array </b>\n",
    "                </font>\n",
    "            </div>\n",
    "        </td>\n",
    "    </tr>\n",
    "</table>"
   ]
  },
  {
   "cell_type": "markdown",
   "metadata": {},
   "source": [
    "**Use the list given below:**\n",
    "    \n",
    "numbers = [6, 5, 3, 15]"
   ]
  },
  {
   "cell_type": "code",
   "execution_count": 25,
   "metadata": {},
   "outputs": [
    {
     "name": "stdout",
     "output_type": "stream",
     "text": [
      "[12 10  6 30]\n",
      "[11 10  8 20]\n",
      "[1.    0.9   0.625 1.45 ]\n",
      "1.0\n",
      "0.9\n",
      "0.625\n",
      "1.45\n"
     ]
    }
   ],
   "source": [
    "# type your code here\n",
    "numbers = [6, 5, 3, 15]\n",
    "\n",
    "np_numbers = np.array(numbers)\n",
    "\n",
    "a = 2 * np_numbers     \n",
    "print(a)\n",
    "b = np_numbers + 5\n",
    "print(b)\n",
    "\n",
    "print((a -1)/(b))\n",
    "\n",
    "for x in np_numbers:\n",
    "    print((2*x-1)/(x+5))\n"
   ]
  },
  {
   "cell_type": "markdown",
   "metadata": {},
   "source": [
    "<table align=\"left\">\n",
    "    <tr>\n",
    "        <td width=\"6%\">\n",
    "            <img src=\"../images/RA_Logo.png\">\n",
    "        </td>\n",
    "        <td>\n",
    "            <div align=\"left\", style=\"font-size:120%\">\n",
    "                <font color=\"#21618C\">\n",
    "                    <b>20. Write a program to change values in the array with the corresponding square root values</b>\n",
    "                </font>\n",
    "            </div>\n",
    "        </td>\n",
    "    </tr>\n",
    "</table>"
   ]
  },
  {
   "cell_type": "markdown",
   "metadata": {},
   "source": [
    "**Use the array given below:**\n",
    "    \n",
    "num = [49, 81, 64, 25, 121, 1]\n",
    "\n",
    "**The output should be:**\n",
    "\n",
    "num = [7, 9, 8, 5, 11, 1]"
   ]
  },
  {
   "cell_type": "code",
   "execution_count": 26,
   "metadata": {},
   "outputs": [
    {
     "name": "stdout",
     "output_type": "stream",
     "text": [
      "[7, 9, 8, 5, 11, 1]\n"
     ]
    }
   ],
   "source": [
    "# type your code here\n",
    "import numpy as np\n",
    "num = [49, 81, 64, 25, 121, 1]\n",
    "\n",
    "np_num = np.array(num)\n",
    "np_num = np_num ** (1/2)\n",
    "num = []\n",
    "for item in np_num:\n",
    "    num.append(int(item))\n",
    "print(num)    "
   ]
  },
  {
   "cell_type": "code",
   "execution_count": 27,
   "metadata": {},
   "outputs": [
    {
     "name": "stdout",
     "output_type": "stream",
     "text": [
      "[11.5 12.  12.5 13.  13.5 14.  14.5 15.  15.5 16.  16.5 17.  17.5 18.\n",
      " 18.5 19.  19.5 20.  20.5 21.  21.5 22.  22.5 23.  23.5 24.  24.5 25.\n",
      " 25.5 26.  26.5 27.  27.5 28.  28.5 29.  29.5 30.  30.5 31.  31.5 32.\n",
      " 32.5 33.  33.5 34.  34.5 35.  35.5 36.  36.5 37.  37.5 38.  38.5 39.\n",
      " 39.5 40.  40.5 41.  41.5 42.  42.5 43.  43.5 44.  44.5 45.  45.5 46.\n",
      " 46.5 47.  47.5 48.  48.5 49.  49.5 50.  50.5 51.  51.5 52.  52.5 53.\n",
      " 53.5 54.  54.5 55.  55.5 56.  56.5 57.  57.5 58.  58.5 59.  59.5 60.\n",
      " 60.5 61.  61.5 62.  62.5 63.  63.5 64.  64.5 65.  65.5 66.  66.5 67.\n",
      " 67.5 68.  68.5 69.  69.5 70.  70.5 71.  71.5 72.  72.5 73.  73.5 74.\n",
      " 74.5 75.  75.5 76.  76.5 77.  77.5 78.  78.5 79.  79.5 80.  80.5 81.\n",
      " 81.5 82.  82.5 83.  83.5 84.  84.5 85.  85.5 86.  86.5 87.  87.5 88.\n",
      " 88.5 89.  89.5 90.  90.5 91.  91.5 92.  92.5 93.  93.5 94.  94.5 95.\n",
      " 95.5 96.  96.5 97.  97.5 98.  98.5 99. ]\n"
     ]
    }
   ],
   "source": [
    "import numpy as np\n",
    "\n",
    "n = np.arange(11.5,99.5,0.5)\n",
    "print(n)"
   ]
  },
  {
   "cell_type": "code",
   "execution_count": 28,
   "metadata": {},
   "outputs": [
    {
     "name": "stdout",
     "output_type": "stream",
     "text": [
      "Help on method_descriptor:\n",
      "\n",
      "isnumeric(self, /)\n",
      "    Return True if the string is a numeric string, False otherwise.\n",
      "    \n",
      "    A string is numeric if all characters in the string are numeric and there is at\n",
      "    least one character in the string.\n",
      "\n"
     ]
    }
   ],
   "source": [
    "help(str.isnumeric)"
   ]
  },
  {
   "cell_type": "code",
   "execution_count": 29,
   "metadata": {},
   "outputs": [
    {
     "data": {
      "text/plain": [
       "True"
      ]
     },
     "execution_count": 29,
     "metadata": {},
     "output_type": "execute_result"
    }
   ],
   "source": [
    "\"20\".isdecimal()"
   ]
  },
  {
   "cell_type": "code",
   "execution_count": 30,
   "metadata": {},
   "outputs": [
    {
     "name": "stdout",
     "output_type": "stream",
     "text": [
      "Help on method_descriptor:\n",
      "\n",
      "isidentifier(self, /)\n",
      "    Return True if the string is a valid Python identifier, False otherwise.\n",
      "    \n",
      "    Call keyword.iskeyword(s) to test whether string s is a reserved identifier,\n",
      "    such as \"def\" or \"class\".\n",
      "\n"
     ]
    }
   ],
   "source": [
    "help(str.isidentifier)"
   ]
  },
  {
   "cell_type": "code",
   "execution_count": null,
   "metadata": {},
   "outputs": [],
   "source": []
  }
 ],
 "metadata": {
  "kernelspec": {
   "display_name": "Python 3 (ipykernel)",
   "language": "python",
   "name": "python3"
  },
  "language_info": {
   "codemirror_mode": {
    "name": "ipython",
    "version": 3
   },
   "file_extension": ".py",
   "mimetype": "text/x-python",
   "name": "python",
   "nbconvert_exporter": "python",
   "pygments_lexer": "ipython3",
   "version": "3.9.16"
  }
 },
 "nbformat": 4,
 "nbformat_minor": 2
}
