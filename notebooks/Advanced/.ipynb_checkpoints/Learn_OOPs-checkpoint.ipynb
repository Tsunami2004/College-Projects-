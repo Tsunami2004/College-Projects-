{
 "cells": [
  {
   "cell_type": "markdown",
   "id": "0ea5409c",
   "metadata": {},
   "source": [
    "<table align=\"center\" width=100%>\n",
    "    <tr>\n",
    "        <td width=\"12%\">\n",
    "            <img src=\"../images/RA_Logo.png\">\n",
    "        </td>\n",
    "        <td>\n",
    "            <div align=\"center\">\n",
    "                <font color=\"#21618C\" size=8px>\n",
    "                    <b> OOPs using Python <br>(Day 1)\n",
    "                    </b>\n",
    "                </font>\n",
    "            </div>\n",
    "        </td>\n",
    "    </tr>\n",
    "</table>"
   ]
  },
  {
   "cell_type": "raw",
   "id": "57074210",
   "metadata": {},
   "source": [
    "- Python has a blend of both the object oriented and procedure oriented features\n",
    "- Five Features related to OOPs\n",
    "    1. Classes & Objects\n",
    "    2. Encapsulation\n",
    "    3. Abstraction\n",
    "    4. Inheritance\n",
    "    5. Polymorphism\n",
    "- "
   ]
  },
  {
   "cell_type": "raw",
   "id": "11fd814f",
   "metadata": {},
   "source": [
    "- What is a Class?\n",
    "- A class is a blueprint or template for creating objects in object-oriented programming.\n",
    "- It defines the properties (attributes) and behaviors (methods) that objects of the class will have\n",
    "- Classes provide a way to organize and structure code by grouping related data and functionality together.\n",
    "- Instances of a class, known as objects, inherit the properties and behaviors defined by the class.\n",
    "- classes are defined using the class keyword, followed by the class name and a colon. \n",
    "- Methods and attributes are then defined within the class body."
   ]
  },
  {
   "cell_type": "raw",
   "id": "3213dddc",
   "metadata": {},
   "source": [
    "- Here's a concise definition:\n",
    "\n",
    "- A class is a blueprint or template that defines the structure and behavior of objects in object-oriented programming. It encapsulates data and methods that operate on that data. Each object created from a class is an instance of that class, inheriting its attributes and behaviors."
   ]
  },
  {
   "cell_type": "raw",
   "id": "5dccc4d8",
   "metadata": {},
   "source": [
    "- What is an object?\n",
    "\n",
    "- An object is anything that physically exists in the world. So, everthing in ths world is an object.\n",
    "- For example, a table, a ball, a car, a dog, a person, etc.\n",
    "- An object is an instance of a class, representing a specific entity or data structure in a computer program. \n",
    "- An object is a data structure that encapsulates both data (attributes) and behavior (methods). \n",
    "- Everything in Python, including integers, strings, lists, functions, and even modules, is considered an object. \n",
    "- Each object has a unique identity, a type, and a value"
   ]
  },
  {
   "cell_type": "code",
   "execution_count": 32,
   "id": "c71cc49c",
   "metadata": {},
   "outputs": [],
   "source": [
    "class Phone:\n",
    "    name = 'Vidyadhar'\n",
    "    age = 52\n",
    "    \n",
    "    def display(cls):\n",
    "        print(cls.name)\n",
    "        print(cls.age)"
   ]
  },
  {
   "cell_type": "code",
   "execution_count": 33,
   "id": "b86bebcd",
   "metadata": {},
   "outputs": [],
   "source": [
    "p1 = Phone()"
   ]
  },
  {
   "cell_type": "code",
   "execution_count": 34,
   "id": "70c38111",
   "metadata": {},
   "outputs": [
    {
     "name": "stdout",
     "output_type": "stream",
     "text": [
      "Vidyadhar\n",
      "52\n"
     ]
    }
   ],
   "source": [
    "p1.display()"
   ]
  },
  {
   "cell_type": "code",
   "execution_count": 35,
   "id": "64a55d8c",
   "metadata": {},
   "outputs": [],
   "source": [
    "class Phone:\n",
    "    name = 'Vidyadhar'\n",
    "    age = 52\n",
    "    \n",
    "    def display(self):\n",
    "        print(self.name)\n",
    "        print(self.age)"
   ]
  },
  {
   "cell_type": "code",
   "execution_count": 37,
   "id": "ffca2c9d",
   "metadata": {},
   "outputs": [
    {
     "name": "stdout",
     "output_type": "stream",
     "text": [
      "Vidyadhar\n",
      "52\n"
     ]
    }
   ],
   "source": [
    "p2 = Phone()\n",
    "p2.display()"
   ]
  },
  {
   "cell_type": "code",
   "execution_count": null,
   "id": "3b8cb0b5",
   "metadata": {},
   "outputs": [],
   "source": []
  },
  {
   "cell_type": "code",
   "execution_count": 30,
   "id": "fbdc01aa",
   "metadata": {},
   "outputs": [],
   "source": [
    "class Phone:\n",
    "    def set_colour(self, colour):\n",
    "        self.colour = colour\n",
    "\n",
    "    def set_cost(self, cost):\n",
    "        self.cost = cost\n",
    "        \n",
    "    def get_colour(self):\n",
    "        return self.colour\n",
    "    \n",
    "    def make_call(self):\n",
    "        print(\"calling\")\n",
    "        \n",
    "    def play_game(self):\n",
    "        print(\"playing\")"
   ]
  },
  {
   "cell_type": "code",
   "execution_count": 31,
   "id": "020500f7",
   "metadata": {},
   "outputs": [],
   "source": [
    "p1 = Phone()"
   ]
  },
  {
   "cell_type": "code",
   "execution_count": 26,
   "id": "9ed6fefd",
   "metadata": {},
   "outputs": [],
   "source": [
    "p1.set_colour(\"blue\")"
   ]
  },
  {
   "cell_type": "code",
   "execution_count": 27,
   "id": "a96763da",
   "metadata": {},
   "outputs": [
    {
     "data": {
      "text/plain": [
       "'blue'"
      ]
     },
     "execution_count": 27,
     "metadata": {},
     "output_type": "execute_result"
    }
   ],
   "source": [
    "p1.get_colour()"
   ]
  },
  {
   "cell_type": "code",
   "execution_count": 28,
   "id": "1ab2fe52",
   "metadata": {},
   "outputs": [
    {
     "name": "stdout",
     "output_type": "stream",
     "text": [
      "calling\n"
     ]
    }
   ],
   "source": [
    "p1.make_call()"
   ]
  },
  {
   "cell_type": "code",
   "execution_count": 29,
   "id": "71fea919",
   "metadata": {},
   "outputs": [
    {
     "name": "stdout",
     "output_type": "stream",
     "text": [
      "playing\n"
     ]
    }
   ],
   "source": [
    "p1.play_game()"
   ]
  },
  {
   "cell_type": "code",
   "execution_count": null,
   "id": "c887bf7f",
   "metadata": {},
   "outputs": [],
   "source": []
  },
  {
   "cell_type": "code",
   "execution_count": null,
   "id": "8140c051",
   "metadata": {},
   "outputs": [],
   "source": [
    "class Person:\n",
    "    def __init__(self)"
   ]
  },
  {
   "cell_type": "code",
   "execution_count": 1,
   "id": "e197d26a",
   "metadata": {},
   "outputs": [],
   "source": [
    "import math  # Import the math module for mathematical operations\n",
    "\n",
    "class Circle:\n",
    "    def __init__(self, radius):\n",
    "        \"\"\"\n",
    "        Constructor method (__init__):\n",
    "        This method is called automatically when a new Circle object is created.\n",
    "        It initializes the attributes of the Circle object.\n",
    "        \n",
    "        Parameters:\n",
    "        - radius: The radius of the circle.\n",
    "        \"\"\"\n",
    "        self.radius = radius  # Set the radius attribute to the value passed as an argument\n",
    "\n",
    "    def setRadius(self, radius):\n",
    "        \"\"\"\n",
    "        Method to set the radius of the circle.\n",
    "        \n",
    "        Parameters:\n",
    "        - radius: The new value for the radius of the circle.\n",
    "        \"\"\"\n",
    "        self.radius = radius  # Set the radius attribute to the new value\n",
    "\n",
    "    def getRadius(self):\n",
    "        \"\"\"\n",
    "        Method to get the radius of the circle.\n",
    "        It prints the value of the radius attribute.\n",
    "        \"\"\"\n",
    "        print(self.radius)  # Print the value of the radius attribute\n",
    "\n",
    "    def calculateArea(self):\n",
    "        \"\"\"\n",
    "        Method to calculate the area of the circle.\n",
    "        \n",
    "        Returns:\n",
    "        - The area of the circle calculated based on the radius.\n",
    "        \"\"\"\n",
    "        return math.pi * self.radius ** 2  # Calculate and return the area of the circle\n",
    "\n",
    "    def displayArea(self):\n",
    "        \"\"\"\n",
    "        Method to display the area of the circle.\n",
    "        It calls the getRadius method to print the radius, calculates the area, and prints it.\n",
    "        \"\"\"\n",
    "        self.getRadius()  # Call the getRadius method to print the radius\n",
    "        area = self.calculateArea()  # Calculate the area of the circle\n",
    "        print(\"Area of the circle is:\", area)  # Print the calculated area\n"
   ]
  },
  {
   "cell_type": "code",
   "execution_count": 2,
   "id": "24723945",
   "metadata": {},
   "outputs": [
    {
     "name": "stdout",
     "output_type": "stream",
     "text": [
      "1\n",
      "Area of the circle is: 3.141592653589793\n"
     ]
    }
   ],
   "source": [
    "circleObj = Circle(1)\n",
    "circleObj.displayArea()"
   ]
  },
  {
   "cell_type": "code",
   "execution_count": 3,
   "id": "1e36d39e",
   "metadata": {},
   "outputs": [
    {
     "name": "stdout",
     "output_type": "stream",
     "text": [
      "1\n",
      "Area of the circle is: 3.141592653589793\n",
      "10\n",
      "Area of the circle is: 314.1592653589793\n"
     ]
    }
   ],
   "source": [
    "circleObj = Circle(1)\n",
    "circleObj.displayArea()\n",
    "circleObj.setRadius(10)\n",
    "circleObj.displayArea()"
   ]
  },
  {
   "cell_type": "code",
   "execution_count": 4,
   "id": "56381839",
   "metadata": {},
   "outputs": [
    {
     "name": "stdout",
     "output_type": "stream",
     "text": [
      "3\n"
     ]
    }
   ],
   "source": [
    "circleObj.setRadius(3)\n",
    "circleObj.getRadius()"
   ]
  },
  {
   "cell_type": "code",
   "execution_count": 5,
   "id": "ff939c4b",
   "metadata": {},
   "outputs": [],
   "source": [
    "circleObj.setRadius(4)"
   ]
  },
  {
   "cell_type": "code",
   "execution_count": 9,
   "id": "99164683",
   "metadata": {},
   "outputs": [],
   "source": []
  },
  {
   "cell_type": "code",
   "execution_count": 40,
   "id": "b4a0d34a",
   "metadata": {},
   "outputs": [],
   "source": [
    "# Define a class called Car\n",
    "class Car:\n",
    "    # Constructor method to initialize the attributes of the Car object\n",
    "    def __init__(self, brand, model, year):\n",
    "        self.brand = brand    # Attribute to store the brand of the car\n",
    "        self.model = model    # Attribute to store the model of the car\n",
    "        self.year = year      # Attribute to store the manufacturing year of the car\n",
    "    \n",
    "    # Method to display information about the car\n",
    "    def display_info(self):\n",
    "        print(f\"Brand: {self.brand}, Model: {self.model}, Year: {self.year}\")"
   ]
  },
  {
   "cell_type": "code",
   "execution_count": 42,
   "id": "d969e9a2",
   "metadata": {},
   "outputs": [],
   "source": [
    "# Create instances (objects) of the Car class\n",
    "car1 = Car(\"Toyota\", \"Camry\", 2020)\n",
    "car2 = Car(\"Honda\", \"Civic\", 2018)"
   ]
  },
  {
   "cell_type": "code",
   "execution_count": 43,
   "id": "1bec4211",
   "metadata": {},
   "outputs": [
    {
     "name": "stdout",
     "output_type": "stream",
     "text": [
      "Car 1 Information:\n",
      "Brand: Toyota, Model: Camry, Year: 2020\n",
      "\n",
      "Car 2 Information:\n",
      "Brand: Honda, Model: Civic, Year: 2018\n"
     ]
    }
   ],
   "source": [
    "# Access attributes and call methods of the objects\n",
    "print(\"Car 1 Information:\")\n",
    "car1.display_info()\n",
    "\n",
    "print(\"\\nCar 2 Information:\")\n",
    "car2.display_info()"
   ]
  },
  {
   "cell_type": "raw",
   "id": "882d2789",
   "metadata": {},
   "source": [
    "- In this example:\n",
    "\n",
    "- Car is a class that serves as a blueprint for creating car objects.\n",
    "- car1 and car2 are instances (objects) of the Car class.\n",
    "- Each car object (car1 and car2) has attributes (brand, model, year) that store specific information about the\n",
    "  car.\n",
    "- The display_info() method allows us to display information about each car object.\n",
    "\n",
    "- When you run this code, you'll see output displaying the information for each car object based on the attributes provided during object creation. \n",
    "\n",
    "- This demonstrates the concept of objects in Python, where each object encapsulates its own data and behavior."
   ]
  }
 ],
 "metadata": {
  "kernelspec": {
   "display_name": "Python 3 (ipykernel)",
   "language": "python",
   "name": "python3"
  },
  "language_info": {
   "codemirror_mode": {
    "name": "ipython",
    "version": 3
   },
   "file_extension": ".py",
   "mimetype": "text/x-python",
   "name": "python",
   "nbconvert_exporter": "python",
   "pygments_lexer": "ipython3",
   "version": "3.9.16"
  }
 },
 "nbformat": 4,
 "nbformat_minor": 5
}
