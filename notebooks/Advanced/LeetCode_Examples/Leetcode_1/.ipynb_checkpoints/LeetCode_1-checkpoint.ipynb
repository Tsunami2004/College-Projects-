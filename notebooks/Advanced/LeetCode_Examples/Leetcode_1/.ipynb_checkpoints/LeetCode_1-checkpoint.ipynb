{
 "cells": [
  {
   "cell_type": "markdown",
   "id": "bb657b16",
   "metadata": {},
   "source": [
    "<table align=\"left\" width=100%>\n",
    "    <tr>\n",
    "        <td width=\"12%\">\n",
    "            <img src=\"../../../images/RA_Logo.png\">\n",
    "        </td>\n",
    "        <td>\n",
    "            <div align=\"center\">\n",
    "                <font color=\"#21618C\" size=8px>\n",
    "                    <b>LeetCode Examples <br> (Day 1) </b>\n",
    "                    </b>\n",
    "                </font>\n",
    "            </div>\n",
    "        </td>\n",
    "    </tr>\n",
    "</table>"
   ]
  },
  {
   "cell_type": "markdown",
   "id": "694579bd",
   "metadata": {},
   "source": [
    "<table align=\"left\">\n",
    "  <td>\n",
    "    <a href=\"https://colab.research.google.com/github/vidyadharbendre/learn_advanced_python_using_examples/blob/main/notebooks/Advanced/LeetCode_Examples/Leetcode_1/Leetcode_1.ipynb\" target=\"_parent\"><img src=\"https://colab.research.google.com/assets/colab-badge.svg\" alt=\"Open In Colab\"/></a>\n",
    "  </td>\n",
    "  <td>\n",
    "    <a target=\"_blank\" href=\"https://kaggle.com/kernels/welcome?src=https://github.com/vidyadharbendre/learn_advanced_python_using_examples/blob/main/notebooks/Advanced/LeetCode_Examples/Leetcode_1/Leetcode_1.ipynb\"><img src=\"https://kaggle.com/static/images/open-in-kaggle.svg\" /></a>\n",
    "  </td>\n",
    "</table>"
   ]
  },
  {
   "cell_type": "markdown",
   "id": "98767928",
   "metadata": {},
   "source": [
    "Two Sum : Check if a pair with given sum exists in Array\n",
    "\n",
    "Problem Statement: Given an array of integers arr[] and an integer target.\n",
    "\n",
    "1st variant: \n",
    "Return YES if there exist two numbers such that their sum is equal to the target. \n",
    "Otherwise, \n",
    "return NO.\n",
    "\n",
    "2nd variant: \n",
    "Return indices of the two numbers such that their sum is equal to the target. \n",
    "Otherwise, \n",
    "we will return {-1, -1}.\n",
    "\n",
    "Note: You are not allowed to use the same element twice. \n",
    "\n",
    "Example: If the target is equal to 6 and num[1] = 3, then nums[1] + nums[1] = target is not a solution."
   ]
  },
  {
   "cell_type": "markdown",
   "id": "a3b5c92f",
   "metadata": {},
   "source": [
    "# Big O Notation and Complexity\n",
    "\n",
    "## What is Big O Notation?\n",
    "\n",
    "Big O notation is a way to describe the efficiency of algorithms, specifically how their runtime or space requirements grow as the input size grows. It provides an upper bound on the growth rate, which helps in evaluating and comparing different algorithms.\n",
    "\n",
    "## Why is Big O Notation Important?\n",
    "\n",
    "- **Predicting Scalability:** Helps understand how algorithms will perform as input sizes increase.\n",
    "- **Comparing Efficiency:** Allows comparison of the performance of different algorithms.\n",
    "- **Identifying Bottlenecks:** Helps in identifying and optimizing performance-critical sections of code.\n",
    "\n",
    "## Brute Force Approach\n",
    "\n",
    "A brute force approach involves trying all possible solutions to find the correct one. It is usually straightforward to implement but often has high time complexity, making it inefficient for large inputs.\n",
    "\n",
    "## Time Complexity\n",
    "\n",
    "- **O(N):** Linear time complexity where execution time grows linearly with the input size. Efficient for many practical use cases.\n",
    "- **O(N^2):** Quadratic time complexity where execution time grows quadratically with the input size. Common in algorithms with nested loops and generally less efficient.\n",
    "\n",
    "## Space Complexity\n",
    "\n",
    "- **O(1):** Constant space complexity where memory usage does not grow with input size. Very efficient in terms of space.\n",
    "- **O(N):** Linear space complexity where memory usage grows linearly with input size. Used when algorithms need to store a proportional amount of data relative to the input size.\n",
    "\n",
    "This concise explanation of Big O notation, brute force, time complexity, and space complexity can serve as a quick reference in your Jupyter notebook files."
   ]
  },
  {
   "cell_type": "code",
   "execution_count": null,
   "id": "96223a0e",
   "metadata": {},
   "outputs": [],
   "source": [
    "def find_two_numbers_bruteforce(arr, target):\n",
    "    \"\"\"\n",
    "    Brute-force approach to find two numbers that sum up to the target.\n",
    "    Time Complexity: O(N^2)\n",
    "    Space Complexity: O(1)\n",
    "    \"\"\"\n",
    "    N = len(arr)\n",
    "    for i in range(N):\n",
    "        for j in range(i + 1, N):\n",
    "            if arr[i] + arr[j] == target:\n",
    "                return \"YES\", [i + 1, j + 1]  # Convert to 1-based index\n",
    "    return \"NO\", [-1, -1]"
   ]
  },
  {
   "cell_type": "code",
   "execution_count": null,
   "id": "5949c207",
   "metadata": {},
   "outputs": [],
   "source": [
    "def find_two_numbers_optimal(arr, target):\n",
    "    \"\"\"\n",
    "    Optimal approach to find two numbers that sum up to the target using a hash map.\n",
    "    Time Complexity: O(N)\n",
    "    Space Complexity: O(N)\n",
    "    \"\"\"\n",
    "    index_map = {}\n",
    "    for i, num in enumerate(arr):\n",
    "        complement = target - num\n",
    "        if complement in index_map:\n",
    "            return \"YES\", [index_map[complement] + 1, i + 1]  # Convert to 1-based index\n",
    "        index_map[num] = i\n",
    "    return \"NO\", [-1, -1]"
   ]
  },
  {
   "cell_type": "code",
   "execution_count": 11,
   "id": "f7499e2c",
   "metadata": {},
   "outputs": [],
   "source": [
    "def print_results(N, arr, target, method):\n",
    "    \"\"\"\n",
    "    Function to print the results of both brute-force and optimal approaches.\n",
    "    \"\"\"\n",
    "    result_variant1, result_variant2 = method(arr, target)\n",
    "    print(f\"Input Format: N = {N}, arr[] = {arr}, target = {target}\")\n",
    "    print(f\"Result: {result_variant1} (for 1st variant)\")\n",
    "    print(f\"        {result_variant2} (for 2nd variant)\")"
   ]
  },
  {
   "cell_type": "code",
   "execution_count": 9,
   "id": "b12bf6e4",
   "metadata": {},
   "outputs": [
    {
     "name": "stdout",
     "output_type": "stream",
     "text": [
      "Brute-force Approach:\n",
      "Input Format: N = 5, arr[] = [2, 6, 5, 8, 11], target = 14\n",
      "Result: YES (for 1st variant)\n",
      "        [2, 4] (for 2nd variant)\n",
      "Optimal Approach:\n",
      "Input Format: N = 5, arr[] = [2, 6, 5, 8, 11], target = 14\n",
      "Result: YES (for 1st variant)\n",
      "        [2, 4] (for 2nd variant)\n"
     ]
    }
   ],
   "source": [
    "# Example 1\n",
    "N1 = 5\n",
    "arr1 = [2, 6, 5, 8, 11]\n",
    "target1 = 14\n",
    "print(\"Brute-force Approach:\")\n",
    "print_results(N1, arr1, target1, find_two_numbers_bruteforce)\n",
    "print(\"Optimal Approach:\")\n",
    "print_results(N1, arr1, target1, find_two_numbers_optimal)"
   ]
  },
  {
   "cell_type": "code",
   "execution_count": 10,
   "id": "a0b6f150",
   "metadata": {},
   "outputs": [
    {
     "name": "stdout",
     "output_type": "stream",
     "text": [
      "Brute-force Approach:\n",
      "Input Format: N = 5, arr[] = [2, 6, 5, 8, 11], target = 15\n",
      "Result: NO (for 1st variant)\n",
      "        [-1, -1] (for 2nd variant)\n",
      "Optimal Approach:\n",
      "Input Format: N = 5, arr[] = [2, 6, 5, 8, 11], target = 15\n",
      "Result: NO (for 1st variant)\n",
      "        [-1, -1] (for 2nd variant)\n"
     ]
    }
   ],
   "source": [
    "# Example 2\n",
    "N2 = 5\n",
    "arr2 = [2, 6, 5, 8, 11]\n",
    "target2 = 15\n",
    "print(\"Brute-force Approach:\")\n",
    "print_results(N2, arr2, target2, find_two_numbers_bruteforce)\n",
    "print(\"Optimal Approach:\")\n",
    "print_results(N2, arr2, target2, find_two_numbers_optimal)"
   ]
  },
  {
   "cell_type": "code",
   "execution_count": null,
   "id": "e754d73b",
   "metadata": {},
   "outputs": [],
   "source": []
  }
 ],
 "metadata": {
  "kernelspec": {
   "display_name": "Python 3 (ipykernel)",
   "language": "python",
   "name": "python3"
  },
  "language_info": {
   "codemirror_mode": {
    "name": "ipython",
    "version": 3
   },
   "file_extension": ".py",
   "mimetype": "text/x-python",
   "name": "python",
   "nbconvert_exporter": "python",
   "pygments_lexer": "ipython3",
   "version": "3.9.16"
  }
 },
 "nbformat": 4,
 "nbformat_minor": 5
}
